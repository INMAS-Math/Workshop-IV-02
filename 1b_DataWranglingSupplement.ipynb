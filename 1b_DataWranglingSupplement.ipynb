{
 "cells": [
  {
   "cell_type": "markdown",
   "metadata": {},
   "source": [
    "<img align=right src=\"images/inmas.png\" width=130x />\n",
    "\n",
    "# Notebook 01b - Data Wrangling Supplement\n",
    "\n",
    "Material covered in this notebook:\n",
    "\n",
    "- Using Pandas to create, read, and manipulate data using Data Frames\n",
    "- Using the statistical methods part of Pandas\n",
    "\n",
    "\n",
    "### Prerequisite\n",
    "Notebook 01a\n",
    "\n",
    "---------------------------"
   ]
  },
  {
   "cell_type": "markdown",
   "metadata": {
    "id": "z7oKEyu-MrXg"
   },
   "source": [
    "## Importing a package\n",
    "\n",
    "There are three ways to enable features in a Python-package:\n",
    "\n",
    "- `import pandas`\n",
    "   - all sub-modules and functions in the pandas module are accessible with `pandas.*`\n",
    "   - e.g: `pandas.DataFrame({'A': 1.})`\n",
    "- `import pandas as pd`\n",
    "   - create an alias for the namespace yielding methods being accessed by `pd.*`\n",
    "   - e.g: `pd.DataFrame({'A': 1.})`\n",
    "- `from pandas import *`\n",
    "   - all functions will be loaded into the local namespace.  Not recommended.\n",
    "   - e.g: `DataFrame({'A': 1.})`"
   ]
  },
  {
   "cell_type": "markdown",
   "metadata": {
    "id": "XCdRAR68M7ST"
   },
   "source": [
    "## More Series Details"
   ]
  },
  {
   "cell_type": "code",
   "execution_count": null,
   "metadata": {
    "colab": {
     "base_uri": "https://localhost:8080/"
    },
    "executionInfo": {
     "elapsed": 1703,
     "status": "ok",
     "timestamp": 1698693710717,
     "user": {
      "displayName": "Sara Stoudt",
      "userId": "03438098334645453392"
     },
     "user_tz": 240
    },
    "id": "awKzFlmAM_tf",
    "outputId": "c1cff0f0-5626-486e-d1da-e88b1780aaef"
   },
   "outputs": [],
   "source": [
    "import pandas as pd\n",
    "\n",
    "# Create a list of cities\n",
    "cities_list = [\n",
    "  'Champaign', 'Chicago', 'Springfield',\n",
    "  'Elmhurst', 'Bloomington', 'Iowa City',\n",
    "  'St. Louis', 'West Lafayette', 'Baltimore',\n",
    "  'Newark', 'College Park']\n",
    "\n",
    "# Construct series from list\n",
    "cities_series = pd.Series(cities_list)\n",
    "\n",
    "# Show output\n",
    "print(cities_series)"
   ]
  },
  {
   "cell_type": "markdown",
   "metadata": {
    "id": "SVfRHSmqNAW7"
   },
   "source": [
    "When grouping values under a series, it is helpful to provide an explanation of what is being contained within the series. We can associate a name to each series by using the member variable `.name`"
   ]
  },
  {
   "cell_type": "code",
   "execution_count": null,
   "metadata": {
    "id": "72y_OglVM6PH"
   },
   "outputs": [],
   "source": [
    "cities_series.name = 'City Names'\n",
    "cities_series"
   ]
  },
  {
   "cell_type": "markdown",
   "metadata": {
    "id": "aRMWhdckNOgo"
   },
   "source": [
    "Notice, the index is numeric. We can change how indexes are formed by supplying our own indices during the creation."
   ]
  },
  {
   "cell_type": "code",
   "execution_count": null,
   "metadata": {
    "id": "5fGpr_9nNUMv"
   },
   "outputs": [],
   "source": [
    "# Add custom indices\n",
    "cities_series_alpha_idx = pd.Series(\n",
    " cities_list, index = ['a','c','b', 'f', 'g', 'e', 'z', 'y', 'q', 'v', 'r']\n",
    ")\n",
    "\n",
    "print(cities_series_alpha_idx)"
   ]
  },
  {
   "cell_type": "markdown",
   "metadata": {
    "id": "nFVodkOlLoK6"
   },
   "source": [
    "### Lambda Functions"
   ]
  },
  {
   "cell_type": "code",
   "execution_count": null,
   "metadata": {
    "id": "GIpkDm5X380V"
   },
   "outputs": [],
   "source": [
    "# Read in Data\n",
    "uci_adult_df = pd.read_csv(\n",
    "    \"https://archive.ics.uci.edu/ml/machine-learning-databases/adult/adult.data\",\n",
    "     sep = \",\",\n",
    "     names= ['age', 'workclass', 'fnlwgt', 'education', 'educationNum','maritalStatus',\n",
    "             'occupation', 'relationship', 'race', 'sex', 'capitalGain', 'capitalLoss', 'hoursPerWeek','nativeCountry',\n",
    "             'income'],\n",
    "     na_values = ['NA','?']\n",
    "  )"
   ]
  },
  {
   "cell_type": "markdown",
   "metadata": {
    "id": "kMFrpr1cKsf0"
   },
   "source": [
    "We want to create a \"HighEarnerWorker\" variable that quantifies the amount earned based on the captial gain multiplied by hours per week. We could do something like the following:"
   ]
  },
  {
   "cell_type": "code",
   "execution_count": null,
   "metadata": {
    "id": "2VbsGy8_KsIy"
   },
   "outputs": [],
   "source": [
    "uci_adult_df['HighEarnerWorker'] = uci_adult_df.hoursPerWeek * uci_adult_df.capitalGain"
   ]
  },
  {
   "cell_type": "markdown",
   "metadata": {
    "id": "dmuBqHg-B2Zn"
   },
   "source": [
    "Alternatively, we can use a lambda function to handle the mapping. Lambda functions are anonymous functions meant for single-use. They take the form of:\n",
    "\n",
    "```python\n",
    "(lambda parameters: expression)(input)\n",
    "```"
   ]
  },
  {
   "cell_type": "markdown",
   "metadata": {
    "id": "lzDKnHBhK3fg"
   },
   "source": [
    "As an example, consider the squaring operation, we could use: $$f(x) = x^2$$\n"
   ]
  },
  {
   "cell_type": "code",
   "execution_count": null,
   "metadata": {
    "id": "5fn3OirLK5vu"
   },
   "outputs": [],
   "source": [
    "(lambda x: x**2)(4)"
   ]
  },
  {
   "cell_type": "code",
   "execution_count": null,
   "metadata": {
    "id": "P3W-AKbYK6EF"
   },
   "outputs": [],
   "source": [
    "(lambda x: x**2)(8)"
   ]
  },
  {
   "cell_type": "markdown",
   "metadata": {
    "id": "mBDrpvoIK8vo"
   },
   "source": [
    "The equivalent function definition would be:\n"
   ]
  },
  {
   "cell_type": "code",
   "execution_count": null,
   "metadata": {
    "id": "WdCG7vIpK_GA"
   },
   "outputs": [],
   "source": [
    "def square_value(x):\n",
    "  return x**2\n",
    "\n",
    "square_value(8)"
   ]
  },
  {
   "cell_type": "markdown",
   "metadata": {
    "id": "bms3Gh9dLCQG"
   },
   "source": [
    "If we find ourselves frequently using the squaring lambda function, we can quickly promote it by assigning a name.\n"
   ]
  },
  {
   "cell_type": "code",
   "execution_count": null,
   "metadata": {
    "id": "pr_-mpOrLGnx"
   },
   "outputs": [],
   "source": [
    "square_value = (lambda x: x**2)\n",
    "square_value(8)"
   ]
  },
  {
   "cell_type": "markdown",
   "metadata": {
    "id": "V5q3Zp7fLIQ0"
   },
   "source": [
    "Returning to adding a `HighEarnerWorker`, we could use the `lambda` function alongside of `.assign()` method."
   ]
  },
  {
   "cell_type": "code",
   "execution_count": null,
   "metadata": {
    "colab": {
     "base_uri": "https://localhost:8080/",
     "height": 565
    },
    "executionInfo": {
     "elapsed": 159,
     "status": "ok",
     "timestamp": 1698694176563,
     "user": {
      "displayName": "Sara Stoudt",
      "userId": "03438098334645453392"
     },
     "user_tz": 240
    },
    "id": "B56dHWCwLKSS",
    "outputId": "b057b19f-9d93-436c-844b-4f0320aab0d4"
   },
   "outputs": [],
   "source": [
    "uci_adult_df.assign(HighEarnerWorker = lambda df: df.hoursPerWeek * df.capitalGain)"
   ]
  },
  {
   "cell_type": "markdown",
   "metadata": {
    "id": "VvdDwvINLMRx"
   },
   "source": [
    "### Your Turn: Understanding Lambdas\n",
    "\n",
    "Previously, we established two version for adding a column:\n",
    "\n",
    "```python\n",
    "# Direct manipulation\n",
    "uci_adult_df['HighEarnerWorker'] = uci_adult_df.hoursPerWeek*uci_adult_df.capitalGain\n",
    "\n",
    "# Lambda function equivalent\n",
    "uci_adult_df.assign(HighEarnerWorker=lambda df: df.hoursPerWeek*df.capitalGain)\n",
    "```\n",
    "\n",
    "What benefit does the `lambda` version provided compared to a direct modification?"
   ]
  },
  {
   "cell_type": "markdown",
   "metadata": {
    "id": "IJ5Fm5vlonPW"
   },
   "source": [
    "## Drop Columns\n",
    "\n",
    "Sometimes a column doesn't make sense to belong to a `DataFrame`. The column can be removed using `.drop()`.\n",
    "\n",
    "**Note:** We're using `inplace=True` to avoid making a copy and needing to re-save it back into the original `DataFrame` object.\n",
    "\n"
   ]
  },
  {
   "cell_type": "code",
   "execution_count": null,
   "metadata": {
    "colab": {
     "base_uri": "https://localhost:8080/"
    },
    "executionInfo": {
     "elapsed": 398,
     "status": "ok",
     "timestamp": 1698694509543,
     "user": {
      "displayName": "Sara Stoudt",
      "userId": "03438098334645453392"
     },
     "user_tz": 240
    },
    "id": "Yq4fE5CYo-GC",
    "outputId": "c0532296-f331-4f36-de01-fb0c0a9eb702"
   },
   "outputs": [],
   "source": [
    "print(\"Variables before drop:\")\n",
    "print(uci_adult_df.columns[0:4])\n",
    "\n",
    "# Drop a variable inplace\n",
    "uci_adult_df.drop(labels= 'fnlwgt', axis = 1, inplace=True)\n",
    "\n",
    "print(\"Variables after drop:\")\n",
    "print(uci_adult_df.columns[0:4])"
   ]
  },
  {
   "cell_type": "markdown",
   "metadata": {
    "id": "aW1qznvOpGUm"
   },
   "source": [
    "## Add Columns\n",
    "\n",
    "Sometimes we may wish to derive a new variable from the data. Derived variables exist in many forms, a few common instances are:\n",
    "\n",
    "- Computing new quantities (e.g. overall wage when given hours worked and pay rate).\n",
    "- **Discretize** continuous values into a discrete scale (e.g. 100 - 90 -> A, 80 - 89 -> B)\n",
    "- **Normalize** continuous values by applying a linear transformation to scale and center data."
   ]
  },
  {
   "cell_type": "markdown",
   "metadata": {
    "id": "VmPAoeGHpOIr"
   },
   "source": [
    "![image.png](data:image/png;base64,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)"
   ]
  },
  {
   "cell_type": "markdown",
   "metadata": {
    "id": "SV-uRR3QpWUA"
   },
   "source": [
    "## Aggregating by Groups\n",
    "\n",
    "\n",
    "Many times will seek to obtain summary information on a per-group basis. For instance, we want to know the average hours worked for each age in the data set."
   ]
  },
  {
   "cell_type": "markdown",
   "metadata": {
    "id": "5ucSOJO2pYXR"
   },
   "source": [
    "![image.png](data:image/png;base64,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)"
   ]
  },
  {
   "cell_type": "code",
   "execution_count": null,
   "metadata": {
    "colab": {
     "base_uri": "https://localhost:8080/"
    },
    "executionInfo": {
     "elapsed": 188,
     "status": "ok",
     "timestamp": 1698694231461,
     "user": {
      "displayName": "Sara Stoudt",
      "userId": "03438098334645453392"
     },
     "user_tz": 240
    },
    "id": "_nXahDzhpVey",
    "outputId": "7524a235-4a01-4ffd-9c34-0d710ece8d54"
   },
   "outputs": [],
   "source": [
    "hrs_by_age_mean = uci_adult_df.groupby('age')['hoursPerWeek'].mean()\n",
    "print(hrs_by_age_mean)"
   ]
  },
  {
   "cell_type": "markdown",
   "metadata": {
    "id": "cSxPbjEzpmby"
   },
   "source": [
    "Sometimes, it's useful to have the information in dictionary form. To obtain, use `.to_dict()`."
   ]
  },
  {
   "cell_type": "code",
   "execution_count": null,
   "metadata": {
    "id": "fNjh-pMfpkL9"
   },
   "outputs": [],
   "source": [
    "hrs_by_age_mean.to_dict()"
   ]
  },
  {
   "cell_type": "markdown",
   "metadata": {
    "id": "lDXHyRADpzGi"
   },
   "source": [
    "## Custom Aggregations\n",
    "\n",
    "Additional aggregation information can be obtain by using `.agg()` and supplying summary functions."
   ]
  },
  {
   "cell_type": "code",
   "execution_count": null,
   "metadata": {
    "id": "aktXrylxpx2x"
   },
   "outputs": [],
   "source": [
    "hrs_by_age_overview = uci_adult_df.groupby('age')['hoursPerWeek'].agg(['mean', 'std', 'count'])\n",
    "display(hrs_by_age_overview)"
   ]
  },
  {
   "cell_type": "markdown",
   "metadata": {
    "id": "4FiV1-ALqveJ"
   },
   "source": [
    "## Graphing Data\n",
    "\n",
    "Frequently, we may be interested in visually seeing distribution information about the data. As a result, `pandas` has built-in methods to faciliate visualizing information.\n",
    "\n",
    "Histograms are useful for this approach as they focus on continuous variable binning."
   ]
  },
  {
   "cell_type": "code",
   "execution_count": null,
   "metadata": {
    "id": "Z6GoAitrqyJf"
   },
   "outputs": [],
   "source": [
    "# Plot a histogram for Age\n",
    "uci_adult_df.hist('age')"
   ]
  },
  {
   "cell_type": "markdown",
   "metadata": {
    "id": "crwuPsFJq0Ig"
   },
   "source": [
    "Note, we can suppress the excess information by adding a `;` to the end of the statement."
   ]
  },
  {
   "cell_type": "code",
   "execution_count": null,
   "metadata": {
    "id": "9-ycztBCq0rM"
   },
   "outputs": [],
   "source": [
    "# Plot a histogram for Age\n",
    "uci_adult_df.hist('age');"
   ]
  },
  {
   "cell_type": "markdown",
   "metadata": {
    "id": "z8FuKSEpq4NY"
   },
   "source": [
    "Boxplots are useful for showing a continuous variable split by discrete categories."
   ]
  },
  {
   "cell_type": "code",
   "execution_count": null,
   "metadata": {
    "id": "LIVdGlkDq4gE"
   },
   "outputs": [],
   "source": [
    "uci_adult_df.boxplot('age', by = 'race');"
   ]
  },
  {
   "cell_type": "code",
   "execution_count": null,
   "metadata": {
    "id": "XTxaR7gyq5-F"
   },
   "outputs": [],
   "source": [
    "uci_adult_df.plot.scatter('age', 'hoursPerWeek');"
   ]
  },
  {
   "cell_type": "markdown",
   "metadata": {
    "id": "WVy12ghJq_aY"
   },
   "source": [
    "### Your Turn: Plotting\n",
    "\n",
    "Generate a histogram plot of `hoursPerWeek`"
   ]
  },
  {
   "cell_type": "code",
   "execution_count": null,
   "metadata": {
    "id": "TJWhtaIVq_wJ"
   },
   "outputs": [],
   "source": [
    "# Plot histogram of `hoursPerWeek`\n"
   ]
  },
  {
   "cell_type": "markdown",
   "metadata": {
    "id": "E95Zjb80LSfK"
   },
   "source": [
    "### Excel\n",
    "\n",
    "Many data sets will not be in CSV form or delimited form. Instead, they likely will be found in Excel or in another form. In the event that arises, please note that `pandas` is able to easily read in such data.\n",
    "\n",
    "Note: if the following lines of code give you an error, you may need to install the \"openpyxl\" package.\n"
   ]
  },
  {
   "cell_type": "markdown",
   "metadata": {
    "id": "qheFQIrPLVz1"
   },
   "source": [
    "Many analysts will be tempted to immediately read in an excel file using `.read_excel()`."
   ]
  },
  {
   "cell_type": "code",
   "execution_count": null,
   "metadata": {
    "id": "rgOyJA-eLXL4"
   },
   "outputs": [],
   "source": [
    "url = \"https://github.com/inmas-training/fa21-statistical-methods-workshop/raw/main/data/subject_heights.xlsx\"\n",
    "df = pd.read_excel(url, None);"
   ]
  },
  {
   "cell_type": "markdown",
   "metadata": {
    "id": "zvLQkwp_LY6Y"
   },
   "source": [
    "Unfortunately, Excel files may have multiple worksheets embedded in them. Going this route would load all of the spreadsheet information."
   ]
  },
  {
   "cell_type": "code",
   "execution_count": null,
   "metadata": {
    "colab": {
     "base_uri": "https://localhost:8080/"
    },
    "executionInfo": {
     "elapsed": 197,
     "status": "ok",
     "timestamp": 1696355627177,
     "user": {
      "displayName": "Sara Stoudt",
      "userId": "03438098334645453392"
     },
     "user_tz": 240
    },
    "id": "TzvB1a8WLa41",
    "outputId": "8fafcae3-982a-4e5d-ef78-8ad510746776"
   },
   "outputs": [],
   "source": [
    "# See dictionaries read in\n",
    "df.keys()"
   ]
  },
  {
   "cell_type": "markdown",
   "metadata": {
    "id": "Nj-2UrukLcWN"
   },
   "source": [
    "Sometimes, only one worksheet is required. So, we opt to first look at the spreadsheet information."
   ]
  },
  {
   "cell_type": "code",
   "execution_count": null,
   "metadata": {
    "colab": {
     "base_uri": "https://localhost:8080/"
    },
    "executionInfo": {
     "elapsed": 376,
     "status": "ok",
     "timestamp": 1696355628556,
     "user": {
      "displayName": "Sara Stoudt",
      "userId": "03438098334645453392"
     },
     "user_tz": 240
    },
    "id": "Jk9a_WjkLd1A",
    "outputId": "d0d82e22-9b17-4d8b-86b3-b72f6b3f9cc4"
   },
   "outputs": [],
   "source": [
    "# Setup an object that points to the excel data\n",
    "xl_overview = pd.ExcelFile(url)\n",
    "\n",
    "# See all worksheets\n",
    "sheets = xl_overview.sheet_names\n",
    "\n",
    "print(sheets)"
   ]
  },
  {
   "cell_type": "markdown",
   "metadata": {
    "id": "MEEYnQupLfhr"
   },
   "source": [
    "Next, let's selectively obtain the `subject_data` spreadsheet:"
   ]
  },
  {
   "cell_type": "code",
   "execution_count": null,
   "metadata": {
    "colab": {
     "base_uri": "https://localhost:8080/",
     "height": 1000
    },
    "executionInfo": {
     "elapsed": 206,
     "status": "ok",
     "timestamp": 1696355630506,
     "user": {
      "displayName": "Sara Stoudt",
      "userId": "03438098334645453392"
     },
     "user_tz": 240
    },
    "id": "Koydo-n0LhBD",
    "outputId": "ebc09734-e08e-4130-857c-1f1dceb496f9"
   },
   "outputs": [],
   "source": [
    "# Obtain a specific worksheet\n",
    "my_subject_data = xl_overview.parse('subject_data')\n",
    "display(my_subject_data)"
   ]
  },
  {
   "cell_type": "markdown",
   "metadata": {
    "id": "PHWUQRO0rSZ_"
   },
   "source": [
    "### Your Turn: Plotting\n",
    "\n",
    "Generate a boxplot plot of `height` by `sex`."
   ]
  },
  {
   "cell_type": "code",
   "execution_count": null,
   "metadata": {
    "id": "XGx37M0arWud"
   },
   "outputs": [],
   "source": []
  }
 ],
 "metadata": {
  "colab": {
   "authorship_tag": "ABX9TyO5+x7F1zOPg2Mljo+VAdlL",
   "provenance": [],
   "toc_visible": true
  },
  "kernelspec": {
   "display_name": "Python 3 (ipykernel)",
   "language": "python",
   "name": "python3"
  },
  "language_info": {
   "codemirror_mode": {
    "name": "ipython",
    "version": 3
   },
   "file_extension": ".py",
   "mimetype": "text/x-python",
   "name": "python",
   "nbconvert_exporter": "python",
   "pygments_lexer": "ipython3",
   "version": "3.11.7"
  }
 },
 "nbformat": 4,
 "nbformat_minor": 1
}
