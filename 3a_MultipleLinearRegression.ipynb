{
 "cells": [
  {
   "cell_type": "markdown",
   "metadata": {},
   "source": [
    "<img align=right src=\"images/inmas.png\" width=130x />\n",
    "\n",
    "# Notebook 03a - Multiple Linear Regression\n",
    "\n",
    "Material covered in this notebook:\n",
    "\n",
    "This notebook follows along the notes [here](Notes/3_MultipleLinearRegression.pdf)\n",
    "\n",
    "\n",
    "### Prerequisite\n",
    "Notebook 02\n",
    "\n",
    "------------------------------------"
   ]
  },
  {
   "cell_type": "code",
   "execution_count": null,
   "metadata": {
    "id": "ijTCw3BuO6tq"
   },
   "outputs": [],
   "source": [
    "import numpy as np\n",
    "import statsmodels.formula.api as smf\n",
    "import matplotlib.pyplot as plt\n",
    "import seaborn as sbn\n",
    "import scipy.stats as stats"
   ]
  },
  {
   "cell_type": "code",
   "execution_count": null,
   "metadata": {
    "colab": {
     "base_uri": "https://localhost:8080/",
     "height": 644
    },
    "executionInfo": {
     "elapsed": 560,
     "status": "ok",
     "timestamp": 1690307485879,
     "user": {
      "displayName": "Sara Stoudt",
      "userId": "03438098334645453392"
     },
     "user_tz": 240
    },
    "id": "quODpA8aPfL1",
    "outputId": "d24e1243-ea2e-4178-9424-80d6b9355349"
   },
   "outputs": [],
   "source": [
    "data = pd.read_csv(\"https://raw.githubusercontent.com/akmand/datasets/master/openintro/evals.csv\")\n",
    "display(data)"
   ]
  },
  {
   "cell_type": "markdown",
   "metadata": {
    "id": "YJq6hr7vVfld"
   },
   "source": [
    "## Course Evaluation Dataset\n",
    "\n",
    "This data is part of the [OpenIntro resources](https://www.openintro.org/book/statdata/?data=evals).\n",
    "\n",
    "\"The data are gathered from end of semester student evaluations for a large sample of professors from the University of Texas at Austin. In addition, six students rate the professors' physical appearance. The result is a data frame where each row contains a different course and each column has information on either the course or the professor.\"\n",
    "\n",
    "####Variables\n",
    "- score: Average professor evaluation score: (1) very unsatisfactory - (5) excellent.\n",
    "- rank: Rank of professor: teaching, tenure track, tenured.\n",
    "- ethnicity: Ethnicity of professor: not minority, minority.\n",
    "- gender: Gender of professor: female, male.\n",
    "- language: Language of school where professor received education: English or non-English.\n",
    "- age: Age of professor.\n",
    "- cls_perc_eval: Percent of students in class who completed evaluation.\n",
    "- cls_did_eval: Number of students in class who completed evaluation.\n",
    "- cls_students: Total number of students in class.\n",
    "- cls_level: Class level: lower, upper.\n",
    "- cls_profs: Number of professors teaching sections in course in sample: single, multiple.\n",
    "- cls_credits: Number of credits of class: one credit (lab, PE, etc.), multi credit.\n",
    "- bty_f1lower: Beauty rating of professor from lower level female: (1) lowest - (10) highest.\n",
    "- bty_f1upper: Beauty rating of professor from upper level female: (1) lowest - (10) highest.\n",
    "- bty_f2upper: Beauty rating of professor from second level female: (1) lowest - (10) highest.\n",
    "- bty_m1lower: Beauty rating of professor from lower level male: (1) lowest - (10) highest.\n",
    "- bty_m1upper: Beauty rating of professor from upper level male: (1) lowest - (10) highest.\n",
    "- bty_m2upper: Beauty rating of professor from second upper level male: (1) lowest - (10) highest.\n",
    "- bty_avg: Average beauty rating of professor.\n",
    "- pic_outfit: Outfit of professor in picture: not formal, formal.\n",
    "- pic_color: Color of professor’s picture: color, black & white."
   ]
  },
  {
   "cell_type": "markdown",
   "metadata": {
    "id": "mF9fKaTILiga"
   },
   "source": [
    "### Is there a difference in the mean course evaluation score between female and male instructors?"
   ]
  },
  {
   "cell_type": "code",
   "execution_count": null,
   "metadata": {
    "colab": {
     "base_uri": "https://localhost:8080/",
     "height": 467
    },
    "executionInfo": {
     "elapsed": 735,
     "status": "ok",
     "timestamp": 1690307525178,
     "user": {
      "displayName": "Sara Stoudt",
      "userId": "03438098334645453392"
     },
     "user_tz": 240
    },
    "id": "0b38jV2KWEK-",
    "outputId": "0c8fa336-122e-403f-cec3-61e04627247c"
   },
   "outputs": [],
   "source": [
    "sbn.boxplot(data = data,\n",
    "            x=\"gender\",\n",
    "            y=\"score\")\n",
    "#sbn.pairplot(data); ## this will take awhile"
   ]
  },
  {
   "cell_type": "markdown",
   "metadata": {
    "id": "G6rQMr4TiWOj"
   },
   "source": [
    "# Simple Linear Regression"
   ]
  },
  {
   "cell_type": "markdown",
   "metadata": {
    "id": "u1sfvbSFXBcE"
   },
   "source": [
    "### Is there a statistically significant linear relationship between the beauty score and the course evaluation score?"
   ]
  },
  {
   "cell_type": "code",
   "execution_count": null,
   "metadata": {
    "colab": {
     "base_uri": "https://localhost:8080/",
     "height": 450
    },
    "executionInfo": {
     "elapsed": 1105,
     "status": "ok",
     "timestamp": 1690307655152,
     "user": {
      "displayName": "Sara Stoudt",
      "userId": "03438098334645453392"
     },
     "user_tz": 240
    },
    "id": "zphEnueJWrhZ",
    "outputId": "d4905353-caf8-4bc8-a010-e8cd0da56e09"
   },
   "outputs": [],
   "source": [
    "sbn.scatterplot(data=data,  x=\"bty_avg\", y=\"score\");"
   ]
  },
  {
   "cell_type": "markdown",
   "metadata": {
    "id": "Vjvs7C_tXN55"
   },
   "source": [
    "Fit a linear regression model and make a conclusion. Don't forget to check the conditions! (Slide 8, page 4 of Simple Linear Regression Notes)\n",
    "\n"
   ]
  },
  {
   "cell_type": "code",
   "execution_count": null,
   "metadata": {
    "id": "XCK_quNyXVzE"
   },
   "outputs": [],
   "source": []
  },
  {
   "cell_type": "markdown",
   "metadata": {
    "id": "1uK3a98OiTXU"
   },
   "source": [
    "# Multiple Regression with Binary Categorical Variable"
   ]
  },
  {
   "cell_type": "markdown",
   "metadata": {
    "id": "xruiv50qXa61"
   },
   "source": [
    "### Is there a difference in the mean course evalution score between female and male instructors after accounting for the beauty score?"
   ]
  },
  {
   "cell_type": "code",
   "execution_count": null,
   "metadata": {
    "colab": {
     "base_uri": "https://localhost:8080/",
     "height": 450
    },
    "executionInfo": {
     "elapsed": 809,
     "status": "ok",
     "timestamp": 1690307667551,
     "user": {
      "displayName": "Sara Stoudt",
      "userId": "03438098334645453392"
     },
     "user_tz": 240
    },
    "id": "ynQi4fn-L9tN",
    "outputId": "9b825fdc-c571-45b2-9eb9-ab0f2abc0702"
   },
   "outputs": [],
   "source": [
    "sbn.scatterplot(data=data,  x=\"bty_avg\", y=\"score\", hue = 'gender');"
   ]
  },
  {
   "cell_type": "code",
   "execution_count": null,
   "metadata": {
    "colab": {
     "base_uri": "https://localhost:8080/"
    },
    "executionInfo": {
     "elapsed": 248,
     "status": "ok",
     "timestamp": 1690307868943,
     "user": {
      "displayName": "Sara Stoudt",
      "userId": "03438098334645453392"
     },
     "user_tz": 240
    },
    "id": "CnzNXI4LXof0",
    "outputId": "9efc6b3f-2109-49a2-e561-038eea5a7b92"
   },
   "outputs": [],
   "source": [
    "# Specify the model\n",
    "model_formulation = smf.ols(\"score ~ bty_avg + gender\", data = data)\n",
    "\n",
    "# Fit the model\n",
    "results = model_formulation.fit()\n",
    "\n",
    "# View parameters\n",
    "results.params"
   ]
  },
  {
   "cell_type": "markdown",
   "metadata": {
    "id": "bzWnsLhmemio"
   },
   "source": [
    "## Parallel Slopes Model Summary\n",
    "\n",
    "Which coefficient should we do inference on to answer our question of interest?"
   ]
  },
  {
   "cell_type": "code",
   "execution_count": null,
   "metadata": {
    "colab": {
     "base_uri": "https://localhost:8080/"
    },
    "executionInfo": {
     "elapsed": 278,
     "status": "ok",
     "timestamp": 1690302492047,
     "user": {
      "displayName": "Sara Stoudt",
      "userId": "03438098334645453392"
     },
     "user_tz": 240
    },
    "id": "TWALz4sfYJW8",
    "outputId": "8281b1f5-b9ea-497d-88b5-c21db03cf885"
   },
   "outputs": [],
   "source": [
    "model_summary = results.summary()\n",
    "print(model_summary)\n",
    "\n",
    "model_anova = statsmodels.stats.anova.anova_lm(results)\n",
    "print(model_anova)"
   ]
  },
  {
   "cell_type": "markdown",
   "metadata": {
    "id": "GTP3x-95eonC"
   },
   "source": [
    "### Parallel Slopes Predicted Values"
   ]
  },
  {
   "cell_type": "code",
   "execution_count": null,
   "metadata": {
    "id": "mlPQemFwYKKA"
   },
   "outputs": [],
   "source": [
    "# Retrieve beta estimates from statsmodels\n",
    "beta_hat = results.params\n",
    "\n",
    "# split into groups\n",
    "males = data[data.gender == \"male\"]\n",
    "#males.info()\n",
    "\n",
    "females = data[data.gender == \"female\"]\n",
    "#females.info()\n",
    "\n",
    "# Compute estimates\n",
    "Y_hat_M = beta_hat[0] + beta_hat[1] + males.bty_avg*beta_hat[2]\n",
    "Y_hat_F = beta_hat[0] + females.bty_avg*beta_hat[2]\n",
    "\n"
   ]
  },
  {
   "cell_type": "code",
   "execution_count": null,
   "metadata": {
    "colab": {
     "base_uri": "https://localhost:8080/"
    },
    "executionInfo": {
     "elapsed": 115,
     "status": "ok",
     "timestamp": 1690302495978,
     "user": {
      "displayName": "Sara Stoudt",
      "userId": "03438098334645453392"
     },
     "user_tz": 240
    },
    "id": "md5dcFF1cz4f",
    "outputId": "e40c195e-1b98-44bd-f033-06cc9c7a6459"
   },
   "outputs": [],
   "source": [
    "males['predVal'] = Y_hat_M\n",
    "females['predVal'] = Y_hat_F\n",
    "\n"
   ]
  },
  {
   "cell_type": "code",
   "execution_count": null,
   "metadata": {
    "colab": {
     "base_uri": "https://localhost:8080/",
     "height": 468
    },
    "executionInfo": {
     "elapsed": 2041,
     "status": "ok",
     "timestamp": 1690302499824,
     "user": {
      "displayName": "Sara Stoudt",
      "userId": "03438098334645453392"
     },
     "user_tz": 240
    },
    "id": "9FBmusezZsp_",
    "outputId": "ed8466d1-c266-44f1-ec44-a72e9bbd348d"
   },
   "outputs": [],
   "source": [
    "# Show data points\n",
    "sbn.scatterplot(data=data,  x=\"bty_avg\", y=\"score\", hue = 'gender');\n",
    "\n",
    "# Graph the line of best fit\n",
    "sbn.lineplot(data = males, x=\"bty_avg\", y='predVal', color='blue')\n",
    "sbn.lineplot(data = females, x=\"bty_avg\", y='predVal', color='orange')"
   ]
  },
  {
   "cell_type": "markdown",
   "metadata": {
    "id": "vgjtDd4Aezip"
   },
   "source": [
    "### Parallel Slopes Residuals\n",
    "\n",
    "We still can't forget to check the residuals. What condition does the following code chunk assess? Do you believe the condition is met?"
   ]
  },
  {
   "cell_type": "code",
   "execution_count": null,
   "metadata": {
    "colab": {
     "base_uri": "https://localhost:8080/",
     "height": 468
    },
    "executionInfo": {
     "elapsed": 676,
     "status": "ok",
     "timestamp": 1690302502547,
     "user": {
      "displayName": "Sara Stoudt",
      "userId": "03438098334645453392"
     },
     "user_tz": 240
    },
    "id": "h3nhCR7ae2rb",
    "outputId": "385e6b47-7766-43dd-e383-e15b3c8f8807"
   },
   "outputs": [],
   "source": [
    "residuals = results.resid\n",
    "data['resid'] = residuals\n",
    "\n",
    "plot = sbn.scatterplot(data=data,  x=\"bty_avg\", y=\"resid\", hue = 'gender');\n",
    "plot.axhline(y=0, color = 'black')"
   ]
  },
  {
   "cell_type": "markdown",
   "metadata": {
    "id": "LnyNgqHCf37W"
   },
   "source": [
    "What condition does the following code chunk assess? Do you believe the condition is met?"
   ]
  },
  {
   "cell_type": "code",
   "execution_count": null,
   "metadata": {
    "id": "QqfGs4uQf4Z_"
   },
   "outputs": [],
   "source": [
    "results.resid.mean()"
   ]
  },
  {
   "cell_type": "markdown",
   "metadata": {
    "id": "rg-_hcI-f5_G"
   },
   "source": [
    "What condition does the following code chunk assess? Do you believe the condition is met?"
   ]
  },
  {
   "cell_type": "code",
   "execution_count": null,
   "metadata": {
    "colab": {
     "base_uri": "https://localhost:8080/",
     "height": 674
    },
    "executionInfo": {
     "elapsed": 461,
     "status": "error",
     "timestamp": 1690302506793,
     "user": {
      "displayName": "Sara Stoudt",
      "userId": "03438098334645453392"
     },
     "user_tz": 240
    },
    "id": "4epoAvYbf6cA",
    "outputId": "a18e7d61-8147-489b-9438-9453c230c653"
   },
   "outputs": [],
   "source": [
    "fig, (ax1, ax2) = plt.subplots(1, 2, figsize=(12, 5))\n",
    "sbn.distplot(residuals, fit=stats.norm, ax=ax1)\n",
    "ax1.set_title('Distribution of Residuals')\n",
    "ax1.set_xlabel('Residual')\n",
    "ax1.set_ylabel('Probability')\n",
    "_ = stats.probplot(residuals.ravel(), plot=ax2)"
   ]
  },
  {
   "cell_type": "markdown",
   "metadata": {
    "id": "dUw3WDaZgJVy"
   },
   "source": [
    "### Is the relationship between beauty score and course evaluation score the same for female and male instructors?"
   ]
  },
  {
   "cell_type": "code",
   "execution_count": null,
   "metadata": {
    "colab": {
     "base_uri": "https://localhost:8080/"
    },
    "executionInfo": {
     "elapsed": 229,
     "status": "ok",
     "timestamp": 1690308026862,
     "user": {
      "displayName": "Sara Stoudt",
      "userId": "03438098334645453392"
     },
     "user_tz": 240
    },
    "id": "MzPyobYagXer",
    "outputId": "fb42fe2e-a5e5-41dd-bc47-23f5317f7e62"
   },
   "outputs": [],
   "source": [
    "# Specify the model\n",
    "model_formulation = smf.ols(\"score ~ bty_avg * gender\", data = data)\n",
    "\n",
    "# Fit the model\n",
    "results = model_formulation.fit()\n",
    "\n",
    "# View parameters\n",
    "results.params"
   ]
  },
  {
   "cell_type": "markdown",
   "metadata": {
    "id": "nHN_JrmRghyG"
   },
   "source": [
    "### Interaction Model Summary\n",
    "\n",
    "Which coefficient should we do inference on to answer our question of interest?"
   ]
  },
  {
   "cell_type": "code",
   "execution_count": null,
   "metadata": {
    "colab": {
     "base_uri": "https://localhost:8080/"
    },
    "executionInfo": {
     "elapsed": 186,
     "status": "ok",
     "timestamp": 1690308028551,
     "user": {
      "displayName": "Sara Stoudt",
      "userId": "03438098334645453392"
     },
     "user_tz": 240
    },
    "id": "Az7vBNq4giCD",
    "outputId": "415b430e-6e7b-4293-a129-f39e27a1bcfa"
   },
   "outputs": [],
   "source": [
    "model_summary = results.summary()\n",
    "print(model_summary)\n",
    "\n",
    "model_anova = statsmodels.stats.anova.anova_lm(results)\n",
    "print(model_anova)"
   ]
  },
  {
   "cell_type": "markdown",
   "metadata": {
    "id": "kBsjbvYegpAx"
   },
   "source": [
    "### Interaction Predicted Values"
   ]
  },
  {
   "cell_type": "code",
   "execution_count": null,
   "metadata": {
    "colab": {
     "base_uri": "https://localhost:8080/"
    },
    "executionInfo": {
     "elapsed": 142,
     "status": "ok",
     "timestamp": 1690229263150,
     "user": {
      "displayName": "Sara Stoudt",
      "userId": "03438098334645453392"
     },
     "user_tz": 240
    },
    "id": "TAbshBtTgq0b",
    "outputId": "4e46e359-d1c9-43c0-8dda-12d1f8397779"
   },
   "outputs": [],
   "source": [
    "# Retrieve beta estimates from statsmodels\n",
    "beta_hat = results.params\n",
    "\n",
    "# Compute estimates\n",
    "Y_hat_M2 = beta_hat[0] + beta_hat[1] + males.bty_avg*(beta_hat[2] + beta_hat[3])\n",
    "Y_hat_F2 = beta_hat[0] + females.bty_avg*beta_hat[2]\n",
    "\n",
    "males['predVal2'] = Y_hat_M2\n",
    "females['predVal2'] = Y_hat_F2"
   ]
  },
  {
   "cell_type": "code",
   "execution_count": null,
   "metadata": {
    "colab": {
     "base_uri": "https://localhost:8080/",
     "height": 468
    },
    "executionInfo": {
     "elapsed": 1551,
     "status": "ok",
     "timestamp": 1690229267944,
     "user": {
      "displayName": "Sara Stoudt",
      "userId": "03438098334645453392"
     },
     "user_tz": 240
    },
    "id": "OFACzH_yg6md",
    "outputId": "8f1ee117-a560-49de-d457-63ee91a0995d"
   },
   "outputs": [],
   "source": [
    "# Show data points\n",
    "sbn.scatterplot(data=data,  x=\"bty_avg\", y=\"score\", hue = 'gender');\n",
    "# Graph the line of best fit\n",
    "sbn.lineplot(data = males, x=\"bty_avg\", y='predVal2', color='blue')\n",
    "sbn.lineplot(data = females, x=\"bty_avg\", y='predVal2', color='orange')"
   ]
  },
  {
   "cell_type": "markdown",
   "metadata": {
    "id": "J9TZQp4ag-v5"
   },
   "source": [
    "### Interaction Residuals\n",
    "\n",
    "Are the conditions for inference met?"
   ]
  },
  {
   "cell_type": "code",
   "execution_count": null,
   "metadata": {
    "colab": {
     "base_uri": "https://localhost:8080/",
     "height": 1000
    },
    "executionInfo": {
     "elapsed": 1295,
     "status": "ok",
     "timestamp": 1690229364169,
     "user": {
      "displayName": "Sara Stoudt",
      "userId": "03438098334645453392"
     },
     "user_tz": 240
    },
    "id": "3LrbLnpZhE1U",
    "outputId": "ec5cd8c8-da9c-4bb2-d30b-bbd07049cf37"
   },
   "outputs": [],
   "source": [
    "residuals = results.resid\n",
    "data['resid'] = residuals\n",
    "\n",
    "plot = sbn.scatterplot(data=data,  x=\"bty_avg\", y=\"resid\", hue = 'gender');\n",
    "plot.axhline(y=0, color = 'black')\n",
    "\n",
    "results.resid.mean()\n",
    "\n",
    "fig, (ax1, ax2) = plt.subplots(1, 2, figsize=(12, 5))\n",
    "sbn.distplot(residuals, fit=stats.norm, ax=ax1)\n",
    "ax1.set_title('Distribution of Residuals')\n",
    "ax1.set_xlabel('Residual')\n",
    "ax1.set_ylabel('Probability')\n",
    "_ = stats.probplot(residuals.ravel(), plot=ax2)"
   ]
  },
  {
   "cell_type": "markdown",
   "metadata": {
    "id": "gW49KIXjiJWb"
   },
   "source": [
    "# Multiple Regression with Categorical Variable with more than two levels"
   ]
  },
  {
   "cell_type": "code",
   "execution_count": null,
   "metadata": {
    "colab": {
     "base_uri": "https://localhost:8080/",
     "height": 450
    },
    "executionInfo": {
     "elapsed": 660,
     "status": "ok",
     "timestamp": 1690229728701,
     "user": {
      "displayName": "Sara Stoudt",
      "userId": "03438098334645453392"
     },
     "user_tz": 240
    },
    "id": "RTfkxzOTiZXb",
    "outputId": "bc3fb888-b990-490a-cb37-84417b1f93d1"
   },
   "outputs": [],
   "source": [
    "sbn.scatterplot(data=data,  x=\"bty_avg\", y=\"score\", hue = 'rank');"
   ]
  },
  {
   "cell_type": "markdown",
   "metadata": {
    "id": "vPNZFXoLizO3"
   },
   "source": [
    "What statistical question can we ask using the variables displayed here?"
   ]
  },
  {
   "cell_type": "code",
   "execution_count": null,
   "metadata": {
    "colab": {
     "base_uri": "https://localhost:8080/"
    },
    "executionInfo": {
     "elapsed": 203,
     "status": "ok",
     "timestamp": 1690229881947,
     "user": {
      "displayName": "Sara Stoudt",
      "userId": "03438098334645453392"
     },
     "user_tz": 240
    },
    "id": "X0BZSL7oi2tN",
    "outputId": "d5feb8ac-5038-41e6-82c6-088ea690996c"
   },
   "outputs": [],
   "source": [
    "# Specify the model\n",
    "model_formulation = smf.ols(\"score ~ bty_avg * rank\", data = data)\n",
    "\n",
    "# Fit the model\n",
    "results = model_formulation.fit()\n",
    "\n",
    "# View parameters\n",
    "results.params"
   ]
  },
  {
   "cell_type": "markdown",
   "metadata": {
    "id": "0uz8hrE9i8ob"
   },
   "source": [
    "What do you conclude about your question of interest?"
   ]
  },
  {
   "cell_type": "code",
   "execution_count": null,
   "metadata": {
    "id": "3Mep7mpwi7rL"
   },
   "outputs": [],
   "source": [
    "model_summary = results.summary()\n",
    "print(model_summary)\n",
    "\n",
    "model_anova = statsmodels.stats.anova.anova_lm(results)\n",
    "print(model_anova)"
   ]
  },
  {
   "cell_type": "code",
   "execution_count": null,
   "metadata": {
    "colab": {
     "base_uri": "https://localhost:8080/"
    },
    "executionInfo": {
     "elapsed": 162,
     "status": "ok",
     "timestamp": 1690230997326,
     "user": {
      "displayName": "Sara Stoudt",
      "userId": "03438098334645453392"
     },
     "user_tz": 240
    },
    "id": "PeqFFgQ8jC3Y",
    "outputId": "8a68814a-839e-4634-c4ac-d6dcf66a08ee"
   },
   "outputs": [],
   "source": [
    "# Retrieve beta estimates from statsmodels\n",
    "beta_hat = results.params\n",
    "\n",
    "# split into groups\n",
    "#tt = data[data.rank == 'tenure track']\n",
    "tt = data.loc[data['rank'] == 'tenure track']\n",
    "tn = data.loc[data['rank'] == \"tenured\"]\n",
    "te = data.loc[data['rank'] == \"teaching\"]\n",
    "\n",
    "# Compute estimates\n",
    "Y_hat_TT = beta_hat[0] + beta_hat[1] + tt.bty_avg*(beta_hat[3] + beta_hat[4])\n",
    "Y_hat_TN = beta_hat[0] + beta_hat[2] + tn.bty_avg*(beta_hat[3] + beta_hat[5])\n",
    "Y_hat_TE = beta_hat[0] + te.bty_avg*beta_hat[3]\n",
    "\n",
    "tt['predVal'] = Y_hat_TT\n",
    "tn['predVal'] = Y_hat_TN\n",
    "te['predVal'] = Y_hat_TE"
   ]
  },
  {
   "cell_type": "code",
   "execution_count": null,
   "metadata": {
    "colab": {
     "base_uri": "https://localhost:8080/",
     "height": 468
    },
    "executionInfo": {
     "elapsed": 1940,
     "status": "ok",
     "timestamp": 1690231011832,
     "user": {
      "displayName": "Sara Stoudt",
      "userId": "03438098334645453392"
     },
     "user_tz": 240
    },
    "id": "CWJwU_vzjtOU",
    "outputId": "86f6afe8-5e74-4ec3-ffbc-a53d874dc6d8"
   },
   "outputs": [],
   "source": [
    "# Show data points\n",
    "sbn.scatterplot(data=data,  x=\"bty_avg\", y=\"score\", hue = 'rank');\n",
    "# Graph the line of best fit\n",
    "sbn.lineplot(data = tt, x=\"bty_avg\", y='predVal', color='blue')\n",
    "sbn.lineplot(data = tn, x=\"bty_avg\", y='predVal', color='orange')\n",
    "sbn.lineplot(data = te, x=\"bty_avg\", y='predVal', color='green')"
   ]
  },
  {
   "cell_type": "code",
   "execution_count": null,
   "metadata": {
    "id": "lh3nVq2b27ba"
   },
   "outputs": [],
   "source": [
    "residuals = results.resid\n",
    "data['resid'] = residuals\n",
    "\n",
    "plot = sbn.scatterplot(data=data,  x=\"bty_avg\", y=\"resid\", hue = 'rank');\n",
    "plot.axhline(y=0, color = 'black')\n",
    "\n",
    "results.resid.mean()\n",
    "\n",
    "fig, (ax1, ax2) = plt.subplots(1, 2, figsize=(12, 5))\n",
    "sbn.distplot(residuals, fit=stats.norm, ax=ax1)\n",
    "ax1.set_title('Distribution of Residuals')\n",
    "ax1.set_xlabel('Residual')\n",
    "ax1.set_ylabel('Probability')\n",
    "_ = stats.probplot(residuals.ravel(), plot=ax2)"
   ]
  },
  {
   "cell_type": "markdown",
   "metadata": {
    "id": "gEypoiOyhzpi"
   },
   "source": [
    "# Multiple Regression with Multiple Quantitative Variables"
   ]
  },
  {
   "cell_type": "markdown",
   "metadata": {
    "id": "OTTMDwyi2dhK"
   },
   "source": [
    "### Is there a statistically significant linear relationship between the beauty score and the course evaluation score after accounting for instructor age?"
   ]
  },
  {
   "cell_type": "code",
   "execution_count": null,
   "metadata": {
    "colab": {
     "base_uri": "https://localhost:8080/",
     "height": 450
    },
    "executionInfo": {
     "elapsed": 419,
     "status": "ok",
     "timestamp": 1690308254206,
     "user": {
      "displayName": "Sara Stoudt",
      "userId": "03438098334645453392"
     },
     "user_tz": 240
    },
    "id": "l83dP9TEOJj-",
    "outputId": "95ba43e6-693b-4aae-d3cf-b13ef1e0af53"
   },
   "outputs": [],
   "source": [
    "sbn.scatterplot(data=data,  x=\"bty_avg\", y=\"score\");"
   ]
  },
  {
   "cell_type": "code",
   "execution_count": null,
   "metadata": {
    "colab": {
     "base_uri": "https://localhost:8080/",
     "height": 449
    },
    "executionInfo": {
     "elapsed": 343,
     "status": "ok",
     "timestamp": 1690308258412,
     "user": {
      "displayName": "Sara Stoudt",
      "userId": "03438098334645453392"
     },
     "user_tz": 240
    },
    "id": "69fLGMgwOR9W",
    "outputId": "06748286-956e-4459-cc15-7f61af92e104"
   },
   "outputs": [],
   "source": [
    "sbn.scatterplot(data=data,  x=\"age\", y=\"score\");"
   ]
  },
  {
   "cell_type": "code",
   "execution_count": null,
   "metadata": {
    "colab": {
     "base_uri": "https://localhost:8080/",
     "height": 449
    },
    "executionInfo": {
     "elapsed": 627,
     "status": "ok",
     "timestamp": 1690308281651,
     "user": {
      "displayName": "Sara Stoudt",
      "userId": "03438098334645453392"
     },
     "user_tz": 240
    },
    "id": "n0ckrOOaOV5e",
    "outputId": "610ec7df-fe5d-46da-8487-86eaee0bf875"
   },
   "outputs": [],
   "source": [
    "sbn.scatterplot(data=data,  x=\"age\", y=\"bty_avg\");"
   ]
  },
  {
   "cell_type": "markdown",
   "metadata": {
    "id": "Xx7o9YjV74mu"
   },
   "source": [
    "## Check your understanding\n",
    "\n",
    " Consider all of the models presented so far. What are the different elements of statistical output that can be used as evidence that the model is ``good\"? Which do you find most convincing? Why?"
   ]
  },
  {
   "cell_type": "markdown",
   "metadata": {
    "id": "xPMMGfIEO_w3"
   },
   "source": [
    "### Multicollinearity\n",
    "\n",
    "Do we need to worry about age and bty_avg being redundant (i.e. explain similar variability in score)?\n",
    "\n",
    "We can compute a variance inflation factor:\n",
    "\n",
    "$$VIF = \\frac{1}{1-R^2}$$\n",
    "\n",
    "Where R^2 is the R^2 we have seen before in a regression model of one covariate against another.\n",
    "\n",
    "A rule of thumb is an acceptable VIF is < 5."
   ]
  },
  {
   "cell_type": "code",
   "execution_count": null,
   "metadata": {
    "colab": {
     "base_uri": "https://localhost:8080/"
    },
    "executionInfo": {
     "elapsed": 178,
     "status": "ok",
     "timestamp": 1690309916718,
     "user": {
      "displayName": "Sara Stoudt",
      "userId": "03438098334645453392"
     },
     "user_tz": 240
    },
    "id": "6vPzgIrjPz6J",
    "outputId": "717f1cee-65a0-4aa3-8fe0-33e83b349b55"
   },
   "outputs": [],
   "source": [
    "model_formulation = smf.ols(\"bty_avg ~ age\", data = data)\n",
    "model_summary = results.summary()\n",
    "print(model_summary)\n",
    "\n",
    "vif = 1/(1-0.0.059)\n",
    "vif"
   ]
  },
  {
   "cell_type": "code",
   "execution_count": null,
   "metadata": {
    "colab": {
     "base_uri": "https://localhost:8080/"
    },
    "executionInfo": {
     "elapsed": 180,
     "status": "ok",
     "timestamp": 1690302565318,
     "user": {
      "displayName": "Sara Stoudt",
      "userId": "03438098334645453392"
     },
     "user_tz": 240
    },
    "id": "34lt18Wb2mli",
    "outputId": "c46edfdf-c1cd-4049-9e55-28d653b6cfee"
   },
   "outputs": [],
   "source": [
    "# Specify the model\n",
    "model_formulation = smf.ols(\"score ~ bty_avg + age\", data = data)\n",
    "\n",
    "# Fit the model\n",
    "results = model_formulation.fit()\n",
    "\n",
    "# View parameters\n",
    "results.params"
   ]
  },
  {
   "cell_type": "code",
   "execution_count": null,
   "metadata": {
    "colab": {
     "base_uri": "https://localhost:8080/"
    },
    "executionInfo": {
     "elapsed": 194,
     "status": "ok",
     "timestamp": 1690302566354,
     "user": {
      "displayName": "Sara Stoudt",
      "userId": "03438098334645453392"
     },
     "user_tz": 240
    },
    "id": "wd07UECH2t0g",
    "outputId": "51676b3b-1310-4181-a9ae-45c8ed61189b"
   },
   "outputs": [],
   "source": [
    "model_summary = results.summary()\n",
    "print(model_summary)\n",
    "\n",
    "model_anova = statsmodels.stats.anova.anova_lm(results)\n",
    "print(model_anova)"
   ]
  },
  {
   "cell_type": "code",
   "execution_count": null,
   "metadata": {
    "colab": {
     "base_uri": "https://localhost:8080/",
     "height": 1000
    },
    "executionInfo": {
     "elapsed": 1277,
     "status": "ok",
     "timestamp": 1690302569450,
     "user": {
      "displayName": "Sara Stoudt",
      "userId": "03438098334645453392"
     },
     "user_tz": 240
    },
    "id": "oXCkTa9z2uf8",
    "outputId": "d260249e-5f03-4a84-f4db-d76c9bb99300"
   },
   "outputs": [],
   "source": [
    "residuals = results.resid\n",
    "\n",
    "data['resid'] = residuals\n",
    "\n",
    "predVal = results.params[0] + results.params[1]*data.bty_avg + results.params[2]*data.age\n",
    "\n",
    "data['predVal'] = predVal\n",
    "\n",
    "plot = sbn.scatterplot(data=data,  x=\"predVal\", y=\"resid\");\n",
    "plot.axhline(y=0, color = 'black')\n",
    "\n",
    "results.resid.mean()\n",
    "\n",
    "fig, (ax1, ax2) = plt.subplots(1, 2, figsize=(12, 5))\n",
    "sbn.distplot(residuals, fit=stats.norm, ax=ax1)\n",
    "ax1.set_title('Distribution of Residuals')\n",
    "ax1.set_xlabel('Residual')\n",
    "ax1.set_ylabel('Probability')\n",
    "_ = stats.probplot(residuals.ravel(), plot=ax2)"
   ]
  }
 ],
 "metadata": {
  "colab": {
   "authorship_tag": "ABX9TyOSr5YkorkYBdQhXha7ikqX",
   "provenance": [],
   "toc_visible": true
  },
  "kernelspec": {
   "display_name": "Python 3 (ipykernel)",
   "language": "python",
   "name": "python3"
  },
  "language_info": {
   "codemirror_mode": {
    "name": "ipython",
    "version": 3
   },
   "file_extension": ".py",
   "mimetype": "text/x-python",
   "name": "python",
   "nbconvert_exporter": "python",
   "pygments_lexer": "ipython3",
   "version": "3.11.7"
  }
 },
 "nbformat": 4,
 "nbformat_minor": 1
}
