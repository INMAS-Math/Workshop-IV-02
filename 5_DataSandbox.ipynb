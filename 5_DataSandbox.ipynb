{
 "cells": [
  {
   "cell_type": "markdown",
   "metadata": {},
   "source": [
    "<img align=right src=\"images/inmas.png\" width=130x />\n",
    "\n",
    "# Notebook 05 - Final Project - Data Sandbox\n",
    "\n",
    "This notebook brings together all the concepts presented in this workshop.\n",
    "\n",
    "\n",
    "### Prerequisites\n",
    "Notebooks 00 to 04\n",
    "\n",
    "------------------------------------"
   ]
  },
  {
   "cell_type": "markdown",
   "metadata": {
    "id": "IYosuV43yDPZ"
   },
   "source": [
    "# Data Sandbox\n",
    "\n",
    "In this module we give you, effectively, free reign to apply the techniques you have learned and the tools you have acquired to the task of performing exploratory data analysis, elementary inference, and model diagnostics on a dataset of your choosing (among a collection of possibilities which we provide)."
   ]
  },
  {
   "cell_type": "markdown",
   "metadata": {
    "id": "xoidc-Oy_plr"
   },
   "source": [
    "**NOTE: could update some of these datasets, but for now just using old ones**\n",
    "\n",
    "\n"
   ]
  },
  {
   "cell_type": "code",
   "execution_count": null,
   "metadata": {
    "id": "liLCsNB2yJsU"
   },
   "outputs": [],
   "source": [
    "\n",
    "import pandas as pd\n",
    "import numpy as np\n",
    "\n",
    "import statsmodels.formula.api as smf\n",
    "import matplotlib.pyplot as plt\n",
    "import sklearn as sk\n",
    "import sklearn.discriminant_analysis as da\n",
    "# feel free to import whatever else you need"
   ]
  },
  {
   "cell_type": "markdown",
   "metadata": {
    "id": "bnjarE2UyPS0"
   },
   "source": [
    "Here are the datasets:\n",
    "\n",
    "Concrete strength dataset - https://archive.ics.uci.edu/ml/datasets/Concrete+Compressive+Strength\n",
    "\n",
    "Wine quality dataset - https://archive.ics.uci.edu/ml/datasets/wine+quality\n",
    "\n",
    "Heart failure dataset - https://www.kaggle.com/fedesoriano/heart-failure-prediction\n",
    "\n",
    "Health insurance dataset - https://www.kaggle.com/mirichoi0218/insurance\n",
    "\n",
    "Sklearn dataset for diabetes\n",
    "\n",
    "from sklearn.datasets import load_diabetes diabetes = load_diabetes(as_frame=True) print(list(diabetes))\n",
    "\n",
    "Sklearn dataset for cancer\n",
    "\n",
    "from sklearn import datasets cancer = datasets.load_breast_cancer()\n",
    "\n",
    "Description at https://scikit-learn.org/stable/modules/generated/sklearn.datasets.load_breast_cancer.html\n",
    "\n",
    "Wisconsin breast cancer dataset - https://archive.ics.uci.edu/ml/datasets/breast+cancer+wisconsin+(diagnostic)\n",
    "\n",
    "E-coli dataset - https://archive.ics.uci.edu/ml/datasets/ecoli https://www.kaggle.com/datasets/kannanaikkal/ecoli-uci-dataset\n",
    "\n",
    "Indian liver patient dataset - https://archive.ics.uci.edu/ml/datasets/ILPD+(Indian+Liver+Patient+Dataset)"
   ]
  },
  {
   "cell_type": "markdown",
   "metadata": {
    "id": "bTLytfjUyRfC"
   },
   "source": [
    "For those datasets which are not directly included in sklearn you will have to download the dataset from the link, convert it to a .csv (which can be done using \"Save As\" in either Excel or Numbers) saved in your working directory, and load it into Python using pd.read_csv('data.csv'), where data.csv is the file in your working directory (where you saved your copy of this notebook).\n",
    "\n",
    "If you have trouble loading in your dataset, be sure to ask a TA or colleague for assistance.\n",
    "\n",
    "Go exploring! Below you will find an outline for your analysis, but do not feel limited by this scaffold."
   ]
  },
  {
   "cell_type": "markdown",
   "metadata": {
    "id": "gTAMcjHVy-2H"
   },
   "source": [
    "## Exploratory Data Analysis\n",
    "\n",
    "- What variables are available in your dataset? What type are they?\n",
    "- What is the distribution of some of the variables?\n",
    "- Are there any relationships between two variables?\n",
    "- What question might you be able to answer with this data and a model type you have learned so far?\n",
    "\n"
   ]
  },
  {
   "cell_type": "code",
   "execution_count": null,
   "metadata": {
    "id": "DWjCDQXVyL8D"
   },
   "outputs": [],
   "source": []
  },
  {
   "cell_type": "markdown",
   "metadata": {
    "id": "d2rbaPc_zauD"
   },
   "source": [
    "## Model Building\n",
    "\n",
    "- Build a regression/logistic regression model to answer your question of interest.\n",
    "- Evaluate the model fit.\n",
    "- Be sure to check any relevant conditions."
   ]
  },
  {
   "cell_type": "code",
   "execution_count": null,
   "metadata": {
    "id": "sNFvxfKhzh7Q"
   },
   "outputs": [],
   "source": []
  },
  {
   "cell_type": "markdown",
   "metadata": {
    "id": "S4xnWsXxziN6"
   },
   "source": [
    "## Communicate Findings\n",
    "\n",
    "- Interpret your findings in context.\n",
    "- Create a data visualization that helps explain your results.\n",
    "- Write a newspaper headline for your findings. Be careful not to overstate, but get creative."
   ]
  },
  {
   "cell_type": "markdown",
   "metadata": {
    "id": "FsISWcBBzuww"
   },
   "source": [
    "## Reflect\n",
    "\n",
    "Think of this data exploration as a start towards your data portfolio. Many employers like to see evidence that you can wrangle a dataset, answer an interesting question, and report your findings in an accessible way.\n",
    "\n",
    "Suppose an interviewer asks you about a time you explored a dataset without a clear idea of what you would find. Craft a short response based on your experience in this notebook. Remember you want to pitch your skills and creativity."
   ]
  }
 ],
 "metadata": {
  "colab": {
   "authorship_tag": "ABX9TyMiWJFMaem6ftb2UGEsJL3l",
   "provenance": []
  },
  "kernelspec": {
   "display_name": "Python 3 (ipykernel)",
   "language": "python",
   "name": "python3"
  },
  "language_info": {
   "codemirror_mode": {
    "name": "ipython",
    "version": 3
   },
   "file_extension": ".py",
   "mimetype": "text/x-python",
   "name": "python",
   "nbconvert_exporter": "python",
   "pygments_lexer": "ipython3",
   "version": "3.11.7"
  }
 },
 "nbformat": 4,
 "nbformat_minor": 1
}
