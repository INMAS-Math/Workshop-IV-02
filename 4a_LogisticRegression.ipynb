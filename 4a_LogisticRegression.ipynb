{
 "cells": [
  {
   "cell_type": "markdown",
   "metadata": {},
   "source": [
    "<img align=right src=\"images/inmas.png\" width=130x />\n",
    "\n",
    "# Notebook 04a - Logistic Regression\n",
    "\n",
    "Material covered in this notebook:\n",
    "\n",
    "This notebook follows along the notes [here](notes/4_LogisticRegression.pdf)\n",
    "\n",
    "\n",
    "### Prerequisite\n",
    "Notebook 03\n",
    "\n",
    "------------------------------------"
   ]
  },
  {
   "cell_type": "code",
   "execution_count": null,
   "metadata": {
    "id": "Hdm8VDb5VWSj"
   },
   "outputs": [],
   "source": [
    "import pandas as pd\n",
    "import numpy as np\n",
    "import statsmodels.formula.api as smf\n",
    "import matplotlib.pyplot as plt\n",
    "import seaborn as sbn\n",
    "import scipy.stats as stats"
   ]
  },
  {
   "cell_type": "code",
   "execution_count": null,
   "metadata": {
    "colab": {
     "base_uri": "https://localhost:8080/",
     "height": 424
    },
    "executionInfo": {
     "elapsed": 526,
     "status": "ok",
     "timestamp": 1690380919522,
     "user": {
      "displayName": "Sara Stoudt",
      "userId": "03438098334645453392"
     },
     "user_tz": 240
    },
    "id": "1elNEDolWZDo",
    "outputId": "4002a8ce-538f-494a-fb65-123cc4b90f08"
   },
   "outputs": [],
   "source": [
    "data = pd.read_csv(\"https://raw.githubusercontent.com/avehtari/ROS-Examples/master/Arsenic/data/wells.csv\")\n",
    "display(data)"
   ]
  },
  {
   "cell_type": "markdown",
   "metadata": {
    "id": "YF7wRI7ikGnp"
   },
   "source": [
    "### Wells in Bangladesh\n",
    "\n",
    "- switch: does the household switch to a new well\n",
    "- arsenic: arsenic level of respondent's well\n",
    "- dist: distance (in meters) to the closest known safe well\n",
    "- assoc: whether any members of the household are active in community organizations\n",
    "- educ:  the education level of the head of household\n",
    "\n",
    "See [Chapter 13.7](https://users.aalto.fi/~ave/ROS.pdf) for more details."
   ]
  },
  {
   "cell_type": "code",
   "execution_count": null,
   "metadata": {
    "colab": {
     "base_uri": "https://localhost:8080/",
     "height": 468
    },
    "executionInfo": {
     "elapsed": 441,
     "status": "ok",
     "timestamp": 1690314466563,
     "user": {
      "displayName": "Sara Stoudt",
      "userId": "03438098334645453392"
     },
     "user_tz": 240
    },
    "id": "WXzNpFzlX5ST",
    "outputId": "b8645d9c-4856-49e0-f08f-7f5bbab06c33"
   },
   "outputs": [],
   "source": [
    "sbn.boxplot(data = data,\n",
    "            x=\"switch\",\n",
    "            y=\"arsenic\")"
   ]
  },
  {
   "cell_type": "markdown",
   "metadata": {
    "id": "4V0VY_S3-N72"
   },
   "source": [
    "## Check your understanding\n",
    "\n",
    "What would this boxplot have to look like for you to be confident (not in the statistical sense) that arsenic is a good predictor of whether a household makes a well switch?"
   ]
  },
  {
   "cell_type": "code",
   "execution_count": null,
   "metadata": {
    "colab": {
     "base_uri": "https://localhost:8080/",
     "height": 449
    },
    "executionInfo": {
     "elapsed": 385,
     "status": "ok",
     "timestamp": 1690314469600,
     "user": {
      "displayName": "Sara Stoudt",
      "userId": "03438098334645453392"
     },
     "user_tz": 240
    },
    "id": "ieCjv4Nol9kF",
    "outputId": "a5b0b03d-f0bb-4df8-dfb6-e2d1dff3f4a6"
   },
   "outputs": [],
   "source": [
    "sbn.scatterplot(data=data,  x=\"arsenic\", y=\"switch\");"
   ]
  },
  {
   "cell_type": "markdown",
   "metadata": {
    "id": "4fc7390c"
   },
   "source": [
    "## Model with Logistic Regression\n",
    "\n",
    "We can fit the logistic regression model using:"
   ]
  },
  {
   "cell_type": "code",
   "execution_count": null,
   "metadata": {
    "colab": {
     "base_uri": "https://localhost:8080/"
    },
    "executionInfo": {
     "elapsed": 146,
     "status": "ok",
     "timestamp": 1690381423657,
     "user": {
      "displayName": "Sara Stoudt",
      "userId": "03438098334645453392"
     },
     "user_tz": 240
    },
    "id": "3eb51604",
    "outputId": "6b4dfd32-9f40-42f0-9d76-62a61ff7f891"
   },
   "outputs": [],
   "source": [
    "import statsmodels.formula.api as smf\n",
    "\n",
    "# Specify the desired model of y regressing onto x\n",
    "model_formula = smf.logit('switch ~ arsenic', data = data)\n",
    "\n",
    "# Fit the model to the data\n",
    "results = model_formula.fit()\n",
    "\n",
    "results.params"
   ]
  },
  {
   "cell_type": "code",
   "execution_count": null,
   "metadata": {
    "colab": {
     "base_uri": "https://localhost:8080/"
    },
    "executionInfo": {
     "elapsed": 173,
     "status": "ok",
     "timestamp": 1690381389562,
     "user": {
      "displayName": "Sara Stoudt",
      "userId": "03438098334645453392"
     },
     "user_tz": 240
    },
    "id": "b898fed5",
    "outputId": "4e79110e-b939-418a-d04c-d6ce0c24ca95"
   },
   "outputs": [],
   "source": [
    "# Obtain the model summary\n",
    "summary_model = results.summary()\n",
    "\n",
    "# Display output\n",
    "print(summary_model)"
   ]
  },
  {
   "cell_type": "markdown",
   "metadata": {
    "id": "OTNm_OgEl5c5"
   },
   "source": [
    "## Interpreting the model\n",
    "\n",
    "When trying to interpret the model, we opt to just use the odds. The odds are given by:\n",
    "  \n",
    "$$\n",
    "\\begin{align*}\n",
    "\\text{Odds} &= \\frac{{{\\pi _i}}}{{1 - {\\pi _i}}} \\\\\n",
    "&= \\frac{P(Success)}{P(Failure)} \\\\\n",
    "&= \\exp \\left( {{\\beta _0} + {\\beta _1}{x_{1i}} +  \\cdots  + {\\beta _n}{x_{pi}}} \\right)\n",
    "\\end{align*}\n",
    "$$\n",
    "\n",
    "Recall, we're using $\\pi_i$ to denote the probability for individual $i$, e.g. $p_i \\in (0,1)$.\n",
    "\n",
    "\n",
    "### Interpretation of the Odds\n",
    "\n",
    "> On average, for every one unit increase in $x _{ji}$ the odds is $exp\\left({\\beta _j}\\right)$ times larger.\n",
    "  \n",
    "This implies that we are describing:\n",
    "\n",
    "$$\\frac{{{\\pi _{i + 1}}/\\left( {1 - {\\pi _{i + 1}}} \\right)}}{{{\\pi _i}/\\left( {1 - {\\pi _i}} \\right)}} = \\exp \\left( \\beta _j  \\right)$$"
   ]
  },
  {
   "cell_type": "markdown",
   "metadata": {
    "id": "Xe0SITWel90k"
   },
   "source": [
    "### Interpreting Key for $\\beta$\n",
    "\n",
    "When interpreting $\\beta$ in Multiple Logistic Regression, we assume that other covariates are held constant when observing a specific $\\beta _j$.\n",
    "\n",
    "When $\\beta _j = 0$, the odds would be $\\exp\\left({0}\\right)=1$.\n",
    "$\\Rightarrow P\\left( {{Y} = 1} \\right)$ is the same at each level of $x _{ji}$.\n",
    "\n",
    "When $\\beta _j > 0$, the odds would be $1<\\exp\\left({\\beta}\\right)<\\infty$.\n",
    "$\\Rightarrow P\\left( {{Y} = 1} \\right)$ increases as $x _{ji}$ increases.\n",
    "\n",
    "When $\\beta _j < 0$, the odds would be $0<\\exp\\left({\\beta}\\right)<1$.\n",
    "$\\Rightarrow P\\left( {{Y} = 1} \\right)$ decreases as $x _{ji}$ increases.\n",
    "\n",
    "Note: $P\\left( {{Y} = 1} \\right)$ indicates the event occurred."
   ]
  },
  {
   "cell_type": "markdown",
   "metadata": {
    "id": "6b6d5b7b"
   },
   "source": [
    "## Making Predictions\n",
    "\n",
    "We can use a built-in prediction method to compute new model estimates."
   ]
  },
  {
   "cell_type": "code",
   "execution_count": null,
   "metadata": {
    "colab": {
     "base_uri": "https://localhost:8080/"
    },
    "executionInfo": {
     "elapsed": 133,
     "status": "ok",
     "timestamp": 1690381394812,
     "user": {
      "displayName": "Sara Stoudt",
      "userId": "03438098334645453392"
     },
     "user_tz": 240
    },
    "id": "41faf17e",
    "outputId": "76d3f925-014b-41a6-f173-7f4b6836f550"
   },
   "outputs": [],
   "source": [
    "# New observations\n",
    "new_data = {\"arsenic\": [1, 1.8, 2.4, 4.5, 5.2]}\n",
    "\n",
    "# Estimate the expected output\n",
    "y_predictions = results.predict(exog = new_data)\n",
    "y_predictions"
   ]
  },
  {
   "cell_type": "code",
   "execution_count": null,
   "metadata": {
    "colab": {
     "base_uri": "https://localhost:8080/",
     "height": 449
    },
    "executionInfo": {
     "elapsed": 412,
     "status": "ok",
     "timestamp": 1690381448895,
     "user": {
      "displayName": "Sara Stoudt",
      "userId": "03438098334645453392"
     },
     "user_tz": 240
    },
    "id": "cYIHrY5_kxEo",
    "outputId": "dbec1b22-9008-44da-e345-209456f3d393"
   },
   "outputs": [],
   "source": [
    "# Plot raw data\n",
    "sbn.scatterplot(x='arsenic', y='switch', data = data)\n",
    "\n",
    "# Make a grid of x values for plotting the curve\n",
    "xgrid = np.linspace(data['arsenic'].min(), data['arsenic'].max(), 100)\n",
    "\n",
    "# Compute odds over the grid\n",
    "ogrid = np.exp(results.params[0] + results.params[1]*xgrid)\n",
    "\n",
    "# Graph the probability curve\n",
    "plt.plot(xgrid, ogrid/(1+ogrid), color='r')\n",
    "plt.show()"
   ]
  },
  {
   "cell_type": "markdown",
   "metadata": {
    "id": "XU74NygdAyeT"
   },
   "source": [
    "## Check your understanding\n",
    "\n",
    "With respect to the fitted simple logistic regression model predicting whether a movie is declared \"good\" or not using it's length (time), which of the following will be true? You may choose more than one answer.\n",
    "\n",
    "(i) A plot of the predicted probability that the audience will think a movie is good (y-axis) vs.\n",
    "Time (x-axis) will have a logistic s-shape.\n",
    "\n",
    "(ii) A plot of the predicted probability that the audience will think a movie is good (y-axis) vs.\n",
    "Time (x-axis) will have an exponential shape.\n",
    "\n",
    "(iii) A plot of the predicted probability that the audience will think a movie is good (y-axis) vs.\n",
    "Time (x-axis) will have a linear shape.\n",
    "\n",
    "(iv) A plot of the predicted log-odds of the audience thinking that a movie is good (y-axis) vs.\n",
    "Time (x-axis) will have a logistic s-shape.\n",
    "\n",
    "(v) A plot of the predicted log-odds of the audience thinking that a movie is good (y-axis) vs.\n",
    "Time (x-axis) will have an exponential shape.\n",
    "\n",
    "(vi) A plot of the predicted log-odds of the audience thinking that a movie is good (y-axis) vs.\n",
    "Time (x-axis) will have a linear shape."
   ]
  },
  {
   "cell_type": "markdown",
   "metadata": {
    "id": "WzXDkkhBmI5A"
   },
   "source": [
    "### Multiple Logistic Regression\n",
    "\n"
   ]
  },
  {
   "cell_type": "code",
   "execution_count": null,
   "metadata": {
    "colab": {
     "base_uri": "https://localhost:8080/"
    },
    "executionInfo": {
     "elapsed": 161,
     "status": "ok",
     "timestamp": 1690381954080,
     "user": {
      "displayName": "Sara Stoudt",
      "userId": "03438098334645453392"
     },
     "user_tz": 240
    },
    "id": "kY3OSIYzmOyx",
    "outputId": "f75be637-da6e-4202-8cda-fdbde0ef197f"
   },
   "outputs": [],
   "source": [
    "# Specify the desired model of y regressing onto x\n",
    "model_formula = smf.logit('switch ~ arsenic + dist100', data = data)\n",
    "\n",
    "# Fit the model to the data\n",
    "results = model_formula.fit()\n",
    "\n",
    "results.params"
   ]
  },
  {
   "cell_type": "code",
   "execution_count": null,
   "metadata": {
    "colab": {
     "base_uri": "https://localhost:8080/"
    },
    "executionInfo": {
     "elapsed": 155,
     "status": "ok",
     "timestamp": 1690381994515,
     "user": {
      "displayName": "Sara Stoudt",
      "userId": "03438098334645453392"
     },
     "user_tz": 240
    },
    "id": "T0jOzu-hneSs",
    "outputId": "7770c5b0-8a54-457c-8b44-6d3af1e94570"
   },
   "outputs": [],
   "source": [
    "# Obtain the model summary\n",
    "summary_model = results.summary()\n",
    "\n",
    "# Display output\n",
    "print(summary_model)"
   ]
  },
  {
   "cell_type": "markdown",
   "metadata": {
    "id": "Lnw-dGNG-sy2"
   },
   "source": [
    "## Check your understanding\n",
    "\n",
    "Suppose it is known that this data comes from households who received a discount on their water bill for sharing their data. What assumption of logistic regression might you be worried about and why? Explain in a sentence or two.\n"
   ]
  },
  {
   "cell_type": "markdown",
   "metadata": {
    "id": "43714736"
   },
   "source": [
    "## Your Turn: Challenger o-ring data\n",
    "\n",
    "On January 28, 1986, the NASA space shuttle orbiter Challenger broke apart 73 seconds into its flight causing all crew members aboard to parish. The total failure of the challenger vehicle was the result of the failure of O-Ring seals at liftoff. This event became known as **Space Shuttle Challenger disaster** and was studied continuously.\n",
    "\n",
    "When the challenger space shuttle was launched, the temperature was colder than expected causing the O-Ring seal to fail. In the following weeks, NASA sought to then test the reliability of the O-Ring under different temperature conditions. The data collected is as-follows:"
   ]
  },
  {
   "cell_type": "code",
   "execution_count": null,
   "metadata": {
    "id": "cb82b353"
   },
   "outputs": [],
   "source": [
    "oring = [1,1,1,0,0,0,0,0,0,0,0,1,1,1,0,0,0,1,0,0,0,0,0,0]\n",
    "temperature = [53, 56, 57, 63, 66, 67, 67, 67, 68, 69, 70, 70, 70, 70, 72, 73, 75, 75, 76, 76, 78, 79, 80, 81]"
   ]
  },
  {
   "cell_type": "markdown",
   "metadata": {
    "id": "70d7f096"
   },
   "source": [
    "**Note:** This data was available prior to the fateful launch of Challenger; however, there was a convincing argument made using the data to postpone or cancel the launch."
   ]
  },
  {
   "cell_type": "markdown",
   "metadata": {
    "id": "14b827fc"
   },
   "source": [
    "## a: Data Set Import\n",
    "\n",
    "Please construct a pandas data frame called `challenger` using the two variables `oring` and `temperature` given above."
   ]
  },
  {
   "cell_type": "code",
   "execution_count": null,
   "metadata": {
    "id": "9ae783c0"
   },
   "outputs": [],
   "source": []
  },
  {
   "cell_type": "markdown",
   "metadata": {
    "id": "3f9a261e"
   },
   "source": [
    "Obtain the frequency counts for the input data."
   ]
  },
  {
   "cell_type": "code",
   "execution_count": null,
   "metadata": {
    "id": "8bffc30f"
   },
   "outputs": [],
   "source": []
  },
  {
   "cell_type": "markdown",
   "metadata": {
    "id": "19c519aa"
   },
   "source": [
    "## b: Fit Simple Logistic Regression\n",
    "\n",
    "With the `challenger` data frame, please fit a simple logistic regression such that would regress `oring` onto `temperature`."
   ]
  },
  {
   "cell_type": "markdown",
   "metadata": {
    "id": "b776ea7d"
   },
   "source": [
    "Write down the model formula."
   ]
  },
  {
   "cell_type": "markdown",
   "metadata": {
    "id": "49dffd76"
   },
   "source": [
    "---\n",
    "\n",
    "answer\n",
    "\n",
    "---"
   ]
  },
  {
   "cell_type": "markdown",
   "metadata": {
    "id": "c1969513"
   },
   "source": [
    "With the model formula written, let's use statsmodels to fit the data."
   ]
  },
  {
   "cell_type": "code",
   "execution_count": null,
   "metadata": {
    "id": "cff6fdbb"
   },
   "outputs": [],
   "source": []
  },
  {
   "cell_type": "markdown",
   "metadata": {
    "id": "909b54e6"
   },
   "source": [
    "Obtain the model summary information."
   ]
  },
  {
   "cell_type": "code",
   "execution_count": null,
   "metadata": {
    "id": "c7b46d5f"
   },
   "outputs": [],
   "source": []
  },
  {
   "cell_type": "markdown",
   "metadata": {
    "id": "b4f48dbb"
   },
   "source": [
    "## c. Interpret the $\\beta$ coefficient\n",
    "\n",
    "---\n",
    "\n",
    "answer\n",
    "\n",
    "---\n"
   ]
  },
  {
   "cell_type": "markdown",
   "metadata": {
    "id": "39238399"
   },
   "source": [
    "## d: Perform a Hypothesis Test\n",
    "\n",
    "Using information from the challenger model summary, please perform a two-sided hypothesis test for the $\\beta_1$ parameter.\n",
    "\n",
    "$$\n",
    "\\begin{align*}\n",
    "H_0: \\beta_1 = 0\\\\\n",
    "H_A: \\beta_1 \\neq 0\\\\\n",
    "\\end{align*}\n",
    "$$"
   ]
  },
  {
   "cell_type": "code",
   "execution_count": null,
   "metadata": {
    "id": "c74dbeb0"
   },
   "outputs": [],
   "source": []
  },
  {
   "cell_type": "markdown",
   "metadata": {
    "id": "6a518b20"
   },
   "source": [
    "What was the conclusion from the hypothesis test? Did you reject the null hypothesis?"
   ]
  },
  {
   "cell_type": "markdown",
   "metadata": {
    "id": "9e9467f0"
   },
   "source": [
    "## e. Obtain a prediction\n",
    "\n",
    "On the day of the Challenger launch, the outside air was $\\text{temperature} = 31$ degrees Fahrenheit. Using the model we have created, obtain a prediction."
   ]
  },
  {
   "cell_type": "code",
   "execution_count": null,
   "metadata": {
    "id": "3203ea27"
   },
   "outputs": [],
   "source": []
  },
  {
   "cell_type": "markdown",
   "metadata": {
    "id": "bc0343e1"
   },
   "source": [
    "What would happen if NASA waited to launch challenger until the temperature was at 51 degrees Farhenheit?"
   ]
  },
  {
   "cell_type": "markdown",
   "metadata": {
    "id": "264dfdf4"
   },
   "source": [
    "---\n",
    "\n",
    "answer\n",
    "\n",
    "---"
   ]
  },
  {
   "cell_type": "markdown",
   "metadata": {
    "id": "43a4c102"
   },
   "source": [
    "# Your Turn: Credit Default\n",
    "\n",
    "Let's take a look at some credit card default data available on the UCI Irvine Repository.\n",
    "\n",
    "<https://archive.ics.uci.edu/ml/datasets/default+of+credit+card+clients>\n",
    "\n",
    "There are 30000 observations and 25 variables:\n",
    "\n",
    "- ID: ID of each client\n",
    "- LIMIT_BAL: Amount of given credit in NT dollars (includes individual and family/supplementary credit\n",
    "- SEX: Gender (1=male, 2=female)\n",
    "- EDUCATION: (1=graduate school, 2=university, 3=high school, 4=others, - 5=unknown, 6=unknown)\n",
    "- MARRIAGE: Marital status (1=married, 2=single, 3=others)\n",
    "- AGE: Age in years\n",
    "- PAY_0: Repayment status in September, 2005\n",
    " (-1=pay duly, 1=payment delay for - one month, 2=payment delay for two months, … 8=payment delay for eight months, 9=payment delay for nine months and above)\n",
    "- PAY_2: Repayment status in August, 2005 (scale same as above)\n",
    "- PAY_3: Repayment status in July, 2005 (scale same as above)\n",
    "- PAY_4: Repayment status in June, 2005 (scale same as above)\n",
    "- PAY_5: Repayment status in May, 2005 (scale same as above)\n",
    "- PAY_6: Repayment status in April, 2005 (scale same as above)\n",
    "- BILL_AMT1: Amount of bill statement in September, 2005 (NT dollar)\n",
    "- BILL_AMT2: Amount of bill statement in August, 2005 (NT dollar)\n",
    "- BILL_AMT3: Amount of bill statement in July, 2005 (NT dollar)\n",
    "- BILL_AMT4: Amount of bill statement in June, 2005 (NT dollar)\n",
    "- BILL_AMT5: Amount of bill statement in May, 2005 (NT dollar)\n",
    "- BILL_AMT6: Amount of bill statement in April, 2005 (NT dollar)\n",
    "- PAY_AMT1: Amount of previous payment in September, 2005 (NT dollar)\n",
    "- PAY_AMT2: Amount of previous payment in August, 2005 (NT dollar)\n",
    "- PAY_AMT3: Amount of previous payment in July, 2005 (NT dollar)\n",
    "- PAY_AMT4: Amount of previous payment in June, 2005 (NT dollar)\n",
    "- PAY_AMT5: Amount of previous payment in May, 2005 (NT dollar)\n",
    "- PAY_AMT6: Amount of previous payment in April, 2005 (NT dollar)\n",
    "- default.payment.next.month: Default payment (1=yes, 0=no)"
   ]
  },
  {
   "cell_type": "markdown",
   "metadata": {
    "id": "4b3d4bb0"
   },
   "source": [
    "## a: Import data set\n",
    "\n",
    "Please import the data set from:\n",
    "\n",
    "<https://raw.githubusercontent.com/inmas-training/fa21-statistical-methods-workshop/main/data/UCI_Credit_Card.csv>"
   ]
  },
  {
   "cell_type": "code",
   "execution_count": null,
   "metadata": {
    "id": "06d89f76"
   },
   "outputs": [],
   "source": []
  },
  {
   "cell_type": "markdown",
   "metadata": {
    "id": "aedd54a1"
   },
   "source": [
    "## b: Verify the data\n",
    "\n",
    "Please verify the data has been imported correcting by looking at data attributes and checking the start and end of the data frame."
   ]
  },
  {
   "cell_type": "code",
   "execution_count": null,
   "metadata": {
    "id": "f62176a3"
   },
   "outputs": [],
   "source": []
  },
  {
   "cell_type": "markdown",
   "metadata": {
    "id": "3d72557a"
   },
   "source": [
    "## c: Explore the Data\n",
    "\n",
    "Make a few different graphs using seabon on variables that you find interesting."
   ]
  },
  {
   "cell_type": "code",
   "execution_count": null,
   "metadata": {
    "id": "3a3e73c1"
   },
   "outputs": [],
   "source": []
  },
  {
   "cell_type": "markdown",
   "metadata": {
    "id": "2e32fda9"
   },
   "source": [
    "## d: Construct a model\n",
    "\n",
    "Next, let's construct a model on `default.payment.next.month ~ LIMIT_BAL + EDUCATION + SEX`.\n",
    "\n",
    "When a variable has periods, we need to \"quote\" it using `Q(\"\")`, e.g. `Q(\"default.payment.next.month\")`'"
   ]
  },
  {
   "cell_type": "code",
   "execution_count": null,
   "metadata": {
    "id": "6b2d560d"
   },
   "outputs": [],
   "source": []
  },
  {
   "cell_type": "markdown",
   "metadata": {
    "id": "3f25409f"
   },
   "source": [
    "Are all the parameter coefficients in the model significant according to the hypothesis testing?"
   ]
  },
  {
   "cell_type": "markdown",
   "metadata": {
    "id": "bfbeeb0f"
   },
   "source": [
    "---\n",
    "\n",
    "answer\n",
    "\n",
    "---"
   ]
  },
  {
   "cell_type": "markdown",
   "metadata": {
    "id": "19d3f425"
   },
   "source": [
    "Refit a model using only coefficients found to be signficant."
   ]
  },
  {
   "cell_type": "code",
   "execution_count": null,
   "metadata": {
    "id": "38f32717"
   },
   "outputs": [],
   "source": []
  },
  {
   "cell_type": "markdown",
   "metadata": {
    "id": "6802ab9c"
   },
   "source": [
    "Please interpret each parameter of the new model. Recall, we hold other parameters constant when we are trying to interpret."
   ]
  },
  {
   "cell_type": "markdown",
   "metadata": {
    "id": "e24eddbb"
   },
   "source": [
    "---\n",
    "\n",
    "answer\n",
    "\n",
    "---"
   ]
  },
  {
   "cell_type": "markdown",
   "metadata": {
    "id": "3f38dfc1"
   },
   "source": [
    "## e: Construct your own model!\n",
    "\n",
    "Explore crafting your own model on the credit data."
   ]
  },
  {
   "cell_type": "code",
   "execution_count": null,
   "metadata": {
    "id": "8c679564"
   },
   "outputs": [],
   "source": []
  }
 ],
 "metadata": {
  "colab": {
   "authorship_tag": "ABX9TyN+2qBtEMzJz0aIU27apQnQ",
   "provenance": []
  },
  "kernelspec": {
   "display_name": "Python 3 (ipykernel)",
   "language": "python",
   "name": "python3"
  },
  "language_info": {
   "codemirror_mode": {
    "name": "ipython",
    "version": 3
   },
   "file_extension": ".py",
   "mimetype": "text/x-python",
   "name": "python",
   "nbconvert_exporter": "python",
   "pygments_lexer": "ipython3",
   "version": "3.11.7"
  }
 },
 "nbformat": 4,
 "nbformat_minor": 1
}
