{
 "cells": [
  {
   "cell_type": "markdown",
   "metadata": {},
   "source": [
    "<img align=right src=\"images/inmas.png\" width=130x />\n",
    "\n",
    "# Notebook 02b - Simple Linear Regression - Supplement\n",
    "\n",
    "Material covered in this notebook:\n",
    "\n",
    "- How to perform simple linear regressions on data\n",
    "- Using Seaborn to analyze data\n",
    "- Dealing with missing data\n",
    "\n",
    "This notebook follows along the notes [here](Notes/2_SimpleLinearRegression+InferenceForSlope.pdf)\n",
    "\n",
    "### Prerequisite\n",
    "Notebook 02a\n",
    "\n",
    "------------------------------------"
   ]
  },
  {
   "cell_type": "code",
   "execution_count": null,
   "metadata": {
    "id": "MnYz-6A_o17E"
   },
   "outputs": [],
   "source": [
    "import pandas as pd\n",
    "import numpy as np\n",
    "import statsmodels.formula.api as smf\n",
    "import matplotlib.pyplot as plt\n",
    "import seaborn as sbn"
   ]
  },
  {
   "cell_type": "code",
   "execution_count": null,
   "metadata": {
    "colab": {
     "base_uri": "https://localhost:8080/",
     "height": 424
    },
    "executionInfo": {
     "elapsed": 849,
     "status": "ok",
     "timestamp": 1690382625477,
     "user": {
      "displayName": "Sara Stoudt",
      "userId": "03438098334645453392"
     },
     "user_tz": 240
    },
    "id": "x06OgZ2Ap2vq",
    "outputId": "36dace0f-b7b8-4b90-a239-6d2ed58d6cb8"
   },
   "outputs": [],
   "source": [
    "data = pd.read_csv('https://raw.githubusercontent.com/ciaran-evans/bryozoan-data-paper/master/bryozoan_data_fixed.csv')\n",
    "display(data)"
   ]
  },
  {
   "cell_type": "markdown",
   "metadata": {
    "id": "h6j322-epQjV"
   },
   "source": [
    "### Scaling/Normalizing Data\n",
    "\n",
    "When thinking about data, realize that each data point may have vastly different magnitudes/sizes. As a result, it sometimes is a good idea to normalize information into a standard form to help make a decision. For instance, what is a better deal? Getting a 4 dollar Iced Mocha (down from 6.42) or getting $500 dollars off a new computer that costs 1,500 dollars?\n",
    "\n",
    "Enter the Z-Score, which aims to help with normalizing values:\n",
    "\n",
    "$$z = \\frac{x - \\mu}{\\sigma}$$\n",
    "\n",
    "To calculate the Z-Score you need to calculate:\n",
    "\n",
    "- the mean($\\mu$)\n",
    "\n",
    "$$\\mu = \\bar{x} = \\frac{x_1+x_2+\\cdots +x_n}{n}$$\n",
    "\n",
    "- the standard deviation ($\\sigma$)\n",
    "\n",
    "$$\\sigma = \\sqrt{\\frac{1}{n} \\sum_{i=1}^n (x_i - \\mu)^2}, \\text{ where } \\mu = \\frac{1}{n} \\sum_{i=1}^n x_i$$\n",
    "\n",
    "### Regression Tips\n",
    "\n",
    "It can be helpful to scale and standardize your covariates before throwing them in a regression model. This can be helpful in multiple regression when the different covariates are on different scales. It can also aid in interpretation (i.e. a one unit change in X is associated with an ____ standard deviation increase in Y)."
   ]
  },
  {
   "cell_type": "code",
   "execution_count": null,
   "metadata": {
    "colab": {
     "base_uri": "https://localhost:8080/"
    },
    "executionInfo": {
     "elapsed": 2,
     "status": "ok",
     "timestamp": 1690382784719,
     "user": {
      "displayName": "Sara Stoudt",
      "userId": "03438098334645453392"
     },
     "user_tz": 240
    },
    "id": "JZk1w3Dppo2T",
    "outputId": "7c153774-cde4-436c-aef2-67e785bf5139"
   },
   "outputs": [],
   "source": [
    "data.Mass.mean()"
   ]
  },
  {
   "cell_type": "code",
   "execution_count": null,
   "metadata": {
    "colab": {
     "base_uri": "https://localhost:8080/"
    },
    "executionInfo": {
     "elapsed": 4,
     "status": "ok",
     "timestamp": 1690382787635,
     "user": {
      "displayName": "Sara Stoudt",
      "userId": "03438098334645453392"
     },
     "user_tz": 240
    },
    "id": "aungRLBVql0H",
    "outputId": "7c9ab07b-621a-4445-94a4-06032fcd06cb"
   },
   "outputs": [],
   "source": [
    "np.std(data.Mass)"
   ]
  },
  {
   "cell_type": "code",
   "execution_count": null,
   "metadata": {
    "id": "72bMeMF3qmjE"
   },
   "outputs": [],
   "source": [
    "z_mass = (data.Mass - data.Mass.mean())/np.std(data.Mass)\n",
    "z_mass.head()\n",
    "\n",
    "data['z_mass'] = z_mass"
   ]
  },
  {
   "cell_type": "code",
   "execution_count": null,
   "metadata": {
    "colab": {
     "base_uri": "https://localhost:8080/",
     "height": 449
    },
    "executionInfo": {
     "elapsed": 1136,
     "status": "ok",
     "timestamp": 1690382889264,
     "user": {
      "displayName": "Sara Stoudt",
      "userId": "03438098334645453392"
     },
     "user_tz": 240
    },
    "id": "lEaBLpI7qzBx",
    "outputId": "312d84b6-694e-4243-ce65-edde5f7fc3dc"
   },
   "outputs": [],
   "source": [
    "sbn.histplot(data=data, x=\"Mass\");"
   ]
  },
  {
   "cell_type": "code",
   "execution_count": null,
   "metadata": {
    "colab": {
     "base_uri": "https://localhost:8080/",
     "height": 449
    },
    "executionInfo": {
     "elapsed": 890,
     "status": "ok",
     "timestamp": 1690382900042,
     "user": {
      "displayName": "Sara Stoudt",
      "userId": "03438098334645453392"
     },
     "user_tz": 240
    },
    "id": "o2EgzXYMq_ob",
    "outputId": "313a94c7-0282-4b8e-b62a-d21331ef99fb"
   },
   "outputs": [],
   "source": [
    "sbn.histplot(data=data, x=\"z_mass\");"
   ]
  },
  {
   "cell_type": "markdown",
   "metadata": {
    "id": "O0NhZjjjrcGq"
   },
   "source": [
    "### Discretizing Data\n",
    "\n",
    "When working with continuous data, we may sometimes wish to reduce the data into a set of categories. The process of applying thresholds to continuous data is called **discretizing**. For example, within the medical field you may receive a test where your blood pressure is 110 and be categorized as having \"Normal\" blood pressure.\n",
    "\n",
    "Category | Numerical Result\n",
    "----|----\n",
    "Normal |\tLess Than 120\n",
    "Elevated |\t120 – 129\n",
    "High Blood Pressure (Hypertension) Stage 1 |\t130 – 139\n",
    "High Blood Pressure (Hypertension) Stage 2 |\t140 - 180\n",
    "\n",
    "We can automate this process using either a set of `if-else if-else` statements or use [`.cut(variable, [intervals])`](https://pandas.pydata.org/docs/reference/api/pandas.cut.html) method built-in to Pandas."
   ]
  },
  {
   "cell_type": "code",
   "execution_count": null,
   "metadata": {
    "id": "QL567VLhr3ww"
   },
   "outputs": [],
   "source": [
    "health_data = pd.DataFrame({\n",
    "    \"bloodpressure\": [110, 115, 139, 140, 145]\n",
    "})\n",
    "display(health_data)"
   ]
  },
  {
   "cell_type": "markdown",
   "metadata": {
    "id": "YXBa7-JUr6Fo"
   },
   "source": [
    "Reading from the table, we would construct the following thresholds:"
   ]
  },
  {
   "cell_type": "code",
   "execution_count": null,
   "metadata": {
    "id": "bzllxXYor6Ol"
   },
   "outputs": [],
   "source": [
    "health_data['category'] = pd.cut(health_data['bloodpressure'], [0, 120, 130, 140, 180, np.inf])\n",
    "display(health_data)"
   ]
  },
  {
   "cell_type": "markdown",
   "metadata": {
    "id": "Fk_0-u4Rr9_S"
   },
   "source": [
    "Instead of viewing thresholds, the category should likely match with how a doctor would read the result. That is, we need to apply the five distinct blood pressure classes."
   ]
  },
  {
   "cell_type": "code",
   "execution_count": null,
   "metadata": {
    "id": "WbKJVMvhr-IW"
   },
   "outputs": [],
   "source": [
    "health_data['category'] = pd.cut(\n",
    "    health_data['bloodpressure'],\n",
    "    bins = [0, 120, 130, 140, 180, np.inf],\n",
    "    labels = [\"Normal\", \"Elevated\", \"Stage 1\", \"Stage 2\", \"Unknown\"])\n",
    "display(health_data)"
   ]
  },
  {
   "cell_type": "markdown",
   "metadata": {
    "id": "5hQgfed3sK4k"
   },
   "source": [
    "### Your Turn\n",
    "\n",
    "Use the bryozoan data loaded above to:\n",
    "\n",
    "- normalize a different variable other than Mass\n",
    "- create a discretized variable from the Mass variable\n"
   ]
  },
  {
   "cell_type": "markdown",
   "metadata": {
    "id": "X1OXMBGGtA9K"
   },
   "source": [
    "## Missingness\n",
    "\n",
    "The data set we are working with is relatively \"clean\". That is, all information is accounted for across each row and column. Nothing is amiss.\n",
    "\n",
    "In practice, data that is \"complete\" is a rarity to have. In fact, we often have data that is \"incomplete\" or contains missing values. Two instances of this behavior come into mind:\n",
    "\n",
    "1. missing is properly denoted, and\n",
    "2. coded as present, but really missing.\n",
    "\n",
    "As we discussed previously, data that is missing is denoted by `NaN` using `NumPy`'s `np.nan`. In other languages, you may see a missing value denoted by either `NA` or `NULL`."
   ]
  },
  {
   "cell_type": "code",
   "execution_count": null,
   "metadata": {
    "colab": {
     "base_uri": "https://localhost:8080/"
    },
    "executionInfo": {
     "elapsed": 295,
     "status": "ok",
     "timestamp": 1690383805374,
     "user": {
      "displayName": "Sara Stoudt",
      "userId": "03438098334645453392"
     },
     "user_tz": 240
    },
    "id": "6YqEIfZgsY6l",
    "outputId": "b5697da7-b15f-475e-85a8-4a37bd561437"
   },
   "outputs": [],
   "source": [
    "np.nan"
   ]
  },
  {
   "cell_type": "markdown",
   "metadata": {
    "id": "S_kxwwPBuiWj"
   },
   "source": [
    "This value is special in the sense that any operation on a missing value will yield a new missing value. Take for instance:"
   ]
  },
  {
   "cell_type": "code",
   "execution_count": null,
   "metadata": {
    "id": "7FbI04GuujUL"
   },
   "outputs": [],
   "source": [
    "1 + np.nan"
   ]
  },
  {
   "cell_type": "code",
   "execution_count": null,
   "metadata": {
    "id": "tX5rlLRqulOk"
   },
   "outputs": [],
   "source": [
    "0 + np.nan"
   ]
  },
  {
   "cell_type": "markdown",
   "metadata": {
    "id": "ur6fOS26unSD"
   },
   "source": [
    "Thankfully, Pandas has pre-built methods that take into account variables that contain missing values. For instance, let's consider two series: 1. complete and 2. incomplete"
   ]
  },
  {
   "cell_type": "code",
   "execution_count": null,
   "metadata": {
    "colab": {
     "base_uri": "https://localhost:8080/"
    },
    "executionInfo": {
     "elapsed": 278,
     "status": "ok",
     "timestamp": 1690383851063,
     "user": {
      "displayName": "Sara Stoudt",
      "userId": "03438098334645453392"
     },
     "user_tz": 240
    },
    "id": "2f7QsAvKupIg",
    "outputId": "306b9acd-b855-41b1-a368-e8ebe9d5ad48"
   },
   "outputs": [],
   "source": [
    "\n",
    "\n",
    "full_data = pd.Series([1, 2, 3, 4])\n",
    "missing_data = pd.Series([np.nan, 2, 3, 4])\n",
    "              #                # ^^^^^\n",
    "\n",
    "print(f\"Complete Data:\\n{full_data}\\n\")\n",
    "print(f\"Incomplete Data:\\n{missing_data}\")"
   ]
  },
  {
   "cell_type": "markdown",
   "metadata": {
    "id": "4gCaf3sRusrq"
   },
   "source": [
    "Performing the aggregations with series frames yields notably different results:"
   ]
  },
  {
   "cell_type": "code",
   "execution_count": null,
   "metadata": {
    "id": "ygN76giouvg7"
   },
   "outputs": [],
   "source": [
    "full_data.sum(), full_data.min(), full_data.max()"
   ]
  },
  {
   "cell_type": "code",
   "execution_count": null,
   "metadata": {
    "id": "X14T1amQuv3d"
   },
   "outputs": [],
   "source": [
    "missing_data.sum(), missing_data.min(), missing_data.max()"
   ]
  },
  {
   "cell_type": "markdown",
   "metadata": {
    "id": "9TZIW8NguyXC"
   },
   "source": [
    "### Methods for Missing Data"
   ]
  },
  {
   "cell_type": "markdown",
   "metadata": {
    "id": "gKeiePWUuy03"
   },
   "source": [
    "df.method() | description\n",
    "--- | ----\n",
    ".dropna() | Drop missing observations\n",
    ".dropna(how='all') | Drop observations where all cells is NA\n",
    ".dropna(axis=1, how='all') | Drop column if all the values are missing\n",
    ".dropna(thresh = 5) | Drop rows that contain less than 5 non-missing values\n",
    ".fillna(0) | Replace missing values with zeros\n",
    ".isnull()  | True if the value is missing\n",
    ".notnull() |  True for non-missing values"
   ]
  },
  {
   "cell_type": "markdown",
   "metadata": {
    "id": "GLdMof-vvkQ0"
   },
   "source": [
    "#### Verify Presence of Missingness"
   ]
  },
  {
   "cell_type": "markdown",
   "metadata": {
    "id": "WI2MsneuvkuX"
   },
   "source": [
    "Let's verify the data imported correctly by checking for any [missing values](https://pandas.pydata.org/pandas-docs/stable/user_guide/missing_data.html).\n"
   ]
  },
  {
   "cell_type": "code",
   "execution_count": null,
   "metadata": {
    "colab": {
     "base_uri": "https://localhost:8080/"
    },
    "executionInfo": {
     "elapsed": 1985,
     "status": "ok",
     "timestamp": 1690384500395,
     "user": {
      "displayName": "Sara Stoudt",
      "userId": "03438098334645453392"
     },
     "user_tz": 240
    },
    "id": "uK_oDV-tvnZK",
    "outputId": "b1d3131f-5074-49ad-df6b-1999da419a24"
   },
   "outputs": [],
   "source": [
    "# Read in Data\n",
    "uci_adult_df = pd.read_csv(\n",
    "    \"https://archive.ics.uci.edu/ml/machine-learning-databases/adult/adult.data\",\n",
    "     sep = \",\",\n",
    "     header = None,\n",
    "     na_values = ['NA','?']\n",
    "  )\n",
    "uci_adult_df.isnull().values.any()"
   ]
  },
  {
   "cell_type": "code",
   "execution_count": null,
   "metadata": {
    "id": "wu1qZ7DNxHSw"
   },
   "outputs": [],
   "source": [
    "# Add all column names\n",
    "uci_adult_df.columns = [\n",
    "    \"Age\", \"WorkClass\", \"fnlwgt\", \"Education\", \"EducationNum\",\n",
    "    \"MaritalStatus\", \"Occupation\", \"Relationship\", \"Race\", \"Gender\",\n",
    "    \"CapitalGain\", \"CapitalLoss\", \"HoursPerWeek\", \"NativeCountry\", \"Income\"\n",
    "]\n"
   ]
  },
  {
   "cell_type": "markdown",
   "metadata": {
    "id": "8Jv-ea7WwDYs"
   },
   "source": [
    "This looks great... But, we probably should cause an issue.\n",
    "\n",
    "For this problem, we introduce NumPy's `np` to insert a `NaN` or \"Not-a-Number\" value within the `DataFrame`."
   ]
  },
  {
   "cell_type": "code",
   "execution_count": null,
   "metadata": {
    "id": "id4koxWDwIYp"
   },
   "outputs": [],
   "source": [
    "# Create a copy\n",
    "uci_adult_df_na = uci_adult_df.copy(deep = True)\n",
    "\n",
    "# Infect with a missing value\n",
    "uci_adult_df_na.loc[0:1000, ('Age')] = np.nan"
   ]
  },
  {
   "cell_type": "markdown",
   "metadata": {
    "id": "a3ElQrycv2PL"
   },
   "source": [
    "We can check our disruptive work by peeking at the \"head\" of the data set."
   ]
  },
  {
   "cell_type": "code",
   "execution_count": null,
   "metadata": {
    "colab": {
     "base_uri": "https://localhost:8080/",
     "height": 193
    },
    "executionInfo": {
     "elapsed": 318,
     "status": "ok",
     "timestamp": 1690384507985,
     "user": {
      "displayName": "Sara Stoudt",
      "userId": "03438098334645453392"
     },
     "user_tz": 240
    },
    "id": "FtNVQGqqwL5o",
    "outputId": "c8e55ef4-4bd8-416d-df46-525ae446cbaa"
   },
   "outputs": [],
   "source": [
    "uci_adult_df_na.head(2)"
   ]
  },
  {
   "cell_type": "markdown",
   "metadata": {
    "id": "ZBW7ckPbwMWm"
   },
   "source": [
    "\n",
    "Now, if we re-run the previous code, we should detect a missing value in the data."
   ]
  },
  {
   "cell_type": "code",
   "execution_count": null,
   "metadata": {
    "colab": {
     "base_uri": "https://localhost:8080/"
    },
    "executionInfo": {
     "elapsed": 268,
     "status": "ok",
     "timestamp": 1690384510017,
     "user": {
      "displayName": "Sara Stoudt",
      "userId": "03438098334645453392"
     },
     "user_tz": 240
    },
    "id": "W9XP6BJKwMeY",
    "outputId": "6a73b89c-0560-4288-dd35-c2912105582d"
   },
   "outputs": [],
   "source": [
    "uci_adult_df_na.isnull().values.any()"
   ]
  },
  {
   "cell_type": "markdown",
   "metadata": {
    "id": "SSWvT1z0wTpn"
   },
   "source": [
    "#### Identifying Locations of Missingness"
   ]
  },
  {
   "cell_type": "code",
   "execution_count": null,
   "metadata": {
    "colab": {
     "base_uri": "https://localhost:8080/",
     "height": 466
    },
    "executionInfo": {
     "elapsed": 2814,
     "status": "ok",
     "timestamp": 1690384515214,
     "user": {
      "displayName": "Sara Stoudt",
      "userId": "03438098334645453392"
     },
     "user_tz": 240
    },
    "id": "R_riOFb-wWeF",
    "outputId": "5b3b5aa4-a269-49ab-9c58-d673ed3d176f"
   },
   "outputs": [],
   "source": [
    "sbn.heatmap(uci_adult_df_na.isnull().transpose());"
   ]
  },
  {
   "cell_type": "markdown",
   "metadata": {
    "id": "s9TVwwywwbzn"
   },
   "source": [
    "Each row that contains a _single_ missing value is  displayed in yellow next to the variable name.\n",
    "\n",
    "Moreover, any row with a _single_ missing could be directly subset by going across `axis = 1` (row-wise)."
   ]
  },
  {
   "cell_type": "code",
   "execution_count": null,
   "metadata": {
    "colab": {
     "base_uri": "https://localhost:8080/",
     "height": 206
    },
    "executionInfo": {
     "elapsed": 308,
     "status": "ok",
     "timestamp": 1690384348855,
     "user": {
      "displayName": "Sara Stoudt",
      "userId": "03438098334645453392"
     },
     "user_tz": 240
    },
    "id": "st0NW8gbwi5P",
    "outputId": "f7fccfee-8c3d-4dbc-9a1a-544cb405f886"
   },
   "outputs": [],
   "source": [
    "uci_adult_df_na[ uci_adult_df_na.isnull().any(axis=1) ].head()"
   ]
  },
  {
   "cell_type": "markdown",
   "metadata": {
    "id": "3V6OBEmw4S7s"
   },
   "source": [
    "## We want to understand capital gains. What would happen if...\n",
    "\n",
    "- some individual records were completely missing? (some records just didn't make it in the dataset due to a glitch)\n",
    "- older respondents were sensitive to reporting their age?\n",
    "- it was harder to reach people with education profiles less than a Bachelors degree?"
   ]
  },
  {
   "cell_type": "markdown",
   "metadata": {
    "id": "F8xTEL6U_4po"
   },
   "source": [
    "## Check your understanding\n",
    "\n",
    "Here is a hypothetical model output for a multiple linear regression model of the response (frozen pizza rating on a 5 point scale) as modeled by a variety of covariates. Circle a coefficient that is statistically significant but not practically significant. Explain your reasoning in a sentence or two.\n",
    "\n",
    "![Screenshot 2023-10-03 at 3.24.36 PM.png](data:image/png;base64,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)"
   ]
  },
  {
   "cell_type": "markdown",
   "metadata": {
    "id": "EzikNyQhAOAP"
   },
   "source": [
    "You calculate a 95% confidence interval for the coefficient on the “Has Pepperoni” covariate and it is (-2, -0.5). How do you know you made a calculation error? Explain in a sentence or two.\n"
   ]
  }
 ],
 "metadata": {
  "colab": {
   "authorship_tag": "ABX9TyNntF+g+cr6xTtk4OrwyzR8",
   "provenance": [],
   "toc_visible": true
  },
  "kernelspec": {
   "display_name": "Python 3 (ipykernel)",
   "language": "python",
   "name": "python3"
  },
  "language_info": {
   "codemirror_mode": {
    "name": "ipython",
    "version": 3
   },
   "file_extension": ".py",
   "mimetype": "text/x-python",
   "name": "python",
   "nbconvert_exporter": "python",
   "pygments_lexer": "ipython3",
   "version": "3.11.7"
  }
 },
 "nbformat": 4,
 "nbformat_minor": 1
}
