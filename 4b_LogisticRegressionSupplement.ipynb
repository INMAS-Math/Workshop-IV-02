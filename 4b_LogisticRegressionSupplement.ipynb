{
 "cells": [
  {
   "cell_type": "markdown",
   "metadata": {},
   "source": [
    "<img align=right src=\"images/inmas.png\" width=130x />\n",
    "\n",
    "# Notebook 04b - Logistic Regression - Supplement\n",
    "\n",
    "Material covered in this notebook:\n",
    "\n",
    "This notebook follows along the notes [here](Notes/4_LogisticRegression.pdf)\n",
    "\n",
    "\n",
    "### Prerequisite\n",
    "Notebook 04a\n",
    "\n",
    "------------------------------------"
   ]
  },
  {
   "cell_type": "code",
   "execution_count": null,
   "metadata": {
    "id": "LxE15R2Yxist"
   },
   "outputs": [],
   "source": [
    "import pandas as pd\n",
    "import statsmodels.formula.api as smf\n",
    "import matplotlib.pyplot as plt"
   ]
  },
  {
   "cell_type": "code",
   "execution_count": null,
   "metadata": {
    "colab": {
     "base_uri": "https://localhost:8080/",
     "height": 424
    },
    "executionInfo": {
     "elapsed": 1239,
     "status": "ok",
     "timestamp": 1692377930363,
     "user": {
      "displayName": "Sara Stoudt",
      "userId": "03438098334645453392"
     },
     "user_tz": 240
    },
    "id": "vw4C-YIfyBa1",
    "outputId": "018b759b-7eaa-478b-9c8c-6390afbf0e31"
   },
   "outputs": [],
   "source": [
    "# Read in Data\n",
    "uci_adult_df = pd.read_csv(\n",
    "    \"https://archive.ics.uci.edu/ml/machine-learning-databases/adult/adult.data\",\n",
    "     sep = \",\",\n",
    "     header = None,\n",
    "     na_values = ['NA','?']\n",
    "  )\n",
    "\n",
    "# Add all column names\n",
    "uci_adult_df.columns = [\n",
    "    \"Age\", \"WorkClass\", \"fnlwgt\", \"Education\", \"EducationNum\",\n",
    "    \"MaritalStatus\", \"Occupation\", \"Relationship\", \"Race\", \"Gender\",\n",
    "    \"CapitalGain\", \"CapitalLoss\", \"HoursPerWeek\", \"NativeCountry\", \"Income\"\n",
    "]\n",
    "\n",
    "display(uci_adult_df)"
   ]
  },
  {
   "cell_type": "markdown",
   "metadata": {
    "id": "JvkgQjc2xv4k"
   },
   "source": [
    "## Splitting Data\n",
    "\n",
    "The standard practice when modeling is to split a single data set into two:\n",
    "\n",
    "- **Training**: Data that should be used to train the model.\n",
    "- **Testing**: Data that should be used to evaluate the predictions made by the trained model.\n",
    "\n",
    "Usually, the percentage is about an 80/20% split with 80% going to training and 20% going to testing."
   ]
  },
  {
   "cell_type": "code",
   "execution_count": null,
   "metadata": {
    "colab": {
     "base_uri": "https://localhost:8080/",
     "height": 424
    },
    "executionInfo": {
     "elapsed": 343,
     "status": "ok",
     "timestamp": 1692379996837,
     "user": {
      "displayName": "Sara Stoudt",
      "userId": "03438098334645453392"
     },
     "user_tz": 240
    },
    "id": "U1foOOjOxwN7",
    "outputId": "bb579aec-e61f-49db-9032-f6aeceac90fe"
   },
   "outputs": [],
   "source": [
    "# Load train_test_split function in the model_selection module for sklearn\n",
    "from sklearn.model_selection import train_test_split\n",
    "\n",
    "# Split the data with 20% in testing and 80% in training.\n",
    "train, test = train_test_split(uci_adult_df, test_size=0.2)\n",
    "\n",
    "train.info()\n",
    "test.info()"
   ]
  },
  {
   "cell_type": "code",
   "execution_count": null,
   "metadata": {
    "id": "n3iXPEIctfi6"
   },
   "outputs": [],
   "source": [
    "## logistic regression expects 0s and 1s as the response variable\n",
    "tempVec = pd.get_dummies(train['Income'])\n",
    "tempVec"
   ]
  },
  {
   "cell_type": "code",
   "execution_count": null,
   "metadata": {},
   "outputs": [],
   "source": [
    "train['Income_Binary'] = tempVec[' >50K']\n",
    "\n",
    "tempVec = pd.get_dummies(test['Income'])\n",
    "\n",
    "test['Income_Binary']  = tempVec[' >50K']"
   ]
  },
  {
   "cell_type": "markdown",
   "metadata": {
    "id": "ff-mSOcHzT5z"
   },
   "source": [
    "Let's fit a model on the training data and see how well it does on the testing data."
   ]
  },
  {
   "cell_type": "code",
   "execution_count": null,
   "metadata": {
    "colab": {
     "base_uri": "https://localhost:8080/"
    },
    "executionInfo": {
     "elapsed": 449,
     "status": "ok",
     "timestamp": 1692380097294,
     "user": {
      "displayName": "Sara Stoudt",
      "userId": "03438098334645453392"
     },
     "user_tz": 240
    },
    "id": "Zw8K41SpzTLJ",
    "outputId": "96b68998-41fa-48ca-b16e-2401b07af6e5"
   },
   "outputs": [],
   "source": [
    "\n",
    "# Specify the desired model of y regressing onto x\n",
    "model_formula = smf.logit('Income_Binary ~ Age + Race + Gender + HoursPerWeek', data = train)\n",
    "\n",
    "# Fit the model to the data\n",
    "results = model_formula.fit()\n",
    "\n",
    "results.params"
   ]
  },
  {
   "cell_type": "code",
   "execution_count": null,
   "metadata": {
    "colab": {
     "base_uri": "https://localhost:8080/"
    },
    "executionInfo": {
     "elapsed": 297,
     "status": "ok",
     "timestamp": 1692380742355,
     "user": {
      "displayName": "Sara Stoudt",
      "userId": "03438098334645453392"
     },
     "user_tz": 240
    },
    "id": "TBj7KS5wxeD5",
    "outputId": "a1ecb73c-7e76-4ab1-bcba-f8551b35b423"
   },
   "outputs": [],
   "source": [
    "## Test accuracy\n",
    "pred = results.predict(test)\n",
    "predV = results.predict(test)\n",
    "pred[pred > 0.5] = 1\n",
    "pred[pred <= 0.5] = 0\n",
    "test_acc = (test['Income_Binary'] == pred).mean()\n",
    "print('Accuracy of logistic regression classifier on test set: {:.2f}'.format(test_acc))"
   ]
  },
  {
   "cell_type": "markdown",
   "metadata": {
    "id": "1S_SPofLvlRs"
   },
   "source": [
    "Let's break that down to decide in what ways we are wrong and right."
   ]
  },
  {
   "cell_type": "code",
   "execution_count": null,
   "metadata": {
    "colab": {
     "base_uri": "https://localhost:8080/"
    },
    "executionInfo": {
     "elapsed": 133,
     "status": "ok",
     "timestamp": 1692380566611,
     "user": {
      "displayName": "Sara Stoudt",
      "userId": "03438098334645453392"
     },
     "user_tz": 240
    },
    "id": "I3FLt-rfveh-",
    "outputId": "eb53909b-d415-4eca-8609-05728ecbc826"
   },
   "outputs": [],
   "source": [
    "from sklearn.metrics import confusion_matrix       ## logistic regression report packages\n",
    "from sklearn.metrics import roc_auc_score\n",
    "from sklearn.metrics import roc_curve\n",
    "\n",
    "# Confusion matrix\n",
    "confusion_matrix = confusion_matrix(test['Income_Binary'], pred)\n",
    "print(confusion_matrix)"
   ]
  },
  {
   "cell_type": "markdown",
   "metadata": {
    "id": "cmuykKyCvoXe"
   },
   "source": [
    "The top left value means that the true value is 1 and we correctly predicted a 1 (true positive). The top right value means that the true value is 1 and we incorrectly predicted a 0 (false negative). The bottom left value means that the true value is 0 and we incorrectly predicted a 1 (false positive). The bottom right value means that the true value is 0 and we correctly predicted a 0 (true negative)."
   ]
  },
  {
   "cell_type": "markdown",
   "metadata": {
    "id": "-8UwevDXwk04"
   },
   "source": [
    "All of this has assumed that 0.5 is the appropriate cutoff value to turn predicted probabilities into binary predictions. What if we change this cutoff value? The ROC curve shows how well the model does under different cutoff values. Informally, we want the area under the curve to be large, so we want the curve to be as close to the upper left corner as possible. Read more about how to interpret this type of curve [here](https://en.wikipedia.org/wiki/Receiver_operating_characteristic).\n",
    "\n"
   ]
  },
  {
   "cell_type": "code",
   "execution_count": null,
   "metadata": {
    "colab": {
     "base_uri": "https://localhost:8080/",
     "height": 472
    },
    "executionInfo": {
     "elapsed": 501,
     "status": "ok",
     "timestamp": 1692380842540,
     "user": {
      "displayName": "Sara Stoudt",
      "userId": "03438098334645453392"
     },
     "user_tz": 240
    },
    "id": "QFLOcZrgu67s",
    "outputId": "a887af64-2ef5-4f20-ea09-523dcd6699a8"
   },
   "outputs": [],
   "source": [
    "# ROC curve\n",
    "logit_roc_auc = roc_auc_score(test['Income_Binary'], pred)\n",
    "fpr, tpr, thresholds = roc_curve(test['Income_Binary'], predV)\n",
    "plt.figure()\n",
    "plt.plot(fpr, tpr, label='Logistic Regression (area = %0.2f)' % logit_roc_auc)\n",
    "plt.plot([0, 1], [0, 1],'r--')\n",
    "plt.xlim([0.0, 1.0])\n",
    "plt.ylim([0.0, 1.05])\n",
    "plt.xlabel('False Positive Rate')\n",
    "plt.ylabel('True Positive Rate')\n",
    "plt.title('Receiver operating characteristic')\n",
    "plt.legend(loc=\"lower right\")\n",
    "plt.savefig('Log_ROC')\n",
    "plt.show()"
   ]
  },
  {
   "cell_type": "markdown",
   "metadata": {
    "id": "9xe8pOorw-29"
   },
   "source": [
    "## Your Turn\n",
    "\n",
    "Fit your own logistic regression model choosing a different binary response. Remember you will need to convert the categorical variable into a 0/1 variable before proceeding. Be sure to evaluate the fit of the model using a test dataset that the model has *not* been trained. on."
   ]
  },
  {
   "cell_type": "code",
   "execution_count": null,
   "metadata": {
    "id": "w04z0e76xMwM"
   },
   "outputs": [],
   "source": []
  }
 ],
 "metadata": {
  "colab": {
   "authorship_tag": "ABX9TyOByxuxZiw2aWpBT8N5RJlz",
   "provenance": []
  },
  "kernelspec": {
   "display_name": "Python 3 (ipykernel)",
   "language": "python",
   "name": "python3"
  },
  "language_info": {
   "codemirror_mode": {
    "name": "ipython",
    "version": 3
   },
   "file_extension": ".py",
   "mimetype": "text/x-python",
   "name": "python",
   "nbconvert_exporter": "python",
   "pygments_lexer": "ipython3",
   "version": "3.11.7"
  }
 },
 "nbformat": 4,
 "nbformat_minor": 1
}
